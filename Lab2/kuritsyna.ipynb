{
 "cells": [
  {
   "cell_type": "markdown",
   "metadata": {},
   "source": [
    "## Practical 1: word2vec\n",
    "<p>Oxford CS - Deep NLP 2017<br>\n",
    "https://www.cs.ox.ac.uk/teaching/courses/2016-2017/dl/</p>\n",
    "<p>[Yannis Assael, Brendan Shillingford, Chris Dyer]</p>"
   ]
  },
  {
   "cell_type": "markdown",
   "metadata": {},
   "source": [
    "This practical is presented as an IPython Notebook, with the code written for recent versions of **Python 3**. The code in this practical will not work with Python 2 unless you modify it. If you are using your own Python installation, ensure you have a setup identical to that described in the installation shell script (which is intended for use with the department lab machines). We will be unable to support installation on personal machines due to time constraints, so please use the lab machines and the setup script if you are unfamiliar with how to install Anaconda.\n",
    "\n",
    "To execute a notebook cell, press `shift-enter`. The return value of the last command will be displayed, if it is not `None`.\n",
    "\n",
    "Potentially useful library documentation, references, and resources:\n",
    "\n",
    "* IPython notebooks: <https://ipython.org/ipython-doc/3/notebook/notebook.html#introduction>\n",
    "* Numpy numerical array library: <https://docs.scipy.org/doc/>\n",
    "* Gensim's word2vec: <https://radimrehurek.com/gensim/models/word2vec.html>\n",
    "* Bokeh interactive plots: <http://bokeh.pydata.org/en/latest/> (we provide plotting code here, but click the thumbnails for more examples to copy-paste)\n",
    "* scikit-learn ML library (aka `sklearn`): <http://scikit-learn.org/stable/documentation.html>\n",
    "* nltk NLP toolkit: <http://www.nltk.org/>\n",
    "* tutorial for processing xml in python using `lxml`: <http://lxml.de/tutorial.html> (we did this for you below, but in case you need it in the future)"
   ]
  },
  {
   "cell_type": "code",
   "execution_count": 1,
   "metadata": {
    "collapsed": true
   },
   "outputs": [],
   "source": [
    "import numpy as np\n",
    "import os\n",
    "from random import shuffle\n",
    "import re"
   ]
  },
  {
   "cell_type": "code",
   "execution_count": 2,
   "metadata": {},
   "outputs": [
    {
     "data": {
      "text/html": [
       "\n",
       "    <div class=\"bk-root\">\n",
       "        <a href=\"http://bokeh.pydata.org\" target=\"_blank\" class=\"bk-logo bk-logo-small bk-logo-notebook\"></a>\n",
       "        <span id=\"7b2b9b46-b778-4726-a0aa-dc30aff8450a\">Loading BokehJS ...</span>\n",
       "    </div>"
      ]
     },
     "metadata": {},
     "output_type": "display_data"
    },
    {
     "data": {
      "application/javascript": [
       "\n",
       "(function(global) {\n",
       "  function now() {\n",
       "    return new Date();\n",
       "  }\n",
       "\n",
       "  var force = true;\n",
       "\n",
       "  if (typeof (window._bokeh_onload_callbacks) === \"undefined\" || force === true) {\n",
       "    window._bokeh_onload_callbacks = [];\n",
       "    window._bokeh_is_loading = undefined;\n",
       "  }\n",
       "\n",
       "\n",
       "  \n",
       "  if (typeof (window._bokeh_timeout) === \"undefined\" || force === true) {\n",
       "    window._bokeh_timeout = Date.now() + 5000;\n",
       "    window._bokeh_failed_load = false;\n",
       "  }\n",
       "\n",
       "  var NB_LOAD_WARNING = {'data': {'text/html':\n",
       "     \"<div style='background-color: #fdd'>\\n\"+\n",
       "     \"<p>\\n\"+\n",
       "     \"BokehJS does not appear to have successfully loaded. If loading BokehJS from CDN, this \\n\"+\n",
       "     \"may be due to a slow or bad network connection. Possible fixes:\\n\"+\n",
       "     \"</p>\\n\"+\n",
       "     \"<ul>\\n\"+\n",
       "     \"<li>re-rerun `output_notebook()` to attempt to load from CDN again, or</li>\\n\"+\n",
       "     \"<li>use INLINE resources instead, as so:</li>\\n\"+\n",
       "     \"</ul>\\n\"+\n",
       "     \"<code>\\n\"+\n",
       "     \"from bokeh.resources import INLINE\\n\"+\n",
       "     \"output_notebook(resources=INLINE)\\n\"+\n",
       "     \"</code>\\n\"+\n",
       "     \"</div>\"}};\n",
       "\n",
       "  function display_loaded() {\n",
       "    if (window.Bokeh !== undefined) {\n",
       "      var el = document.getElementById(\"7b2b9b46-b778-4726-a0aa-dc30aff8450a\");\n",
       "      el.textContent = \"BokehJS \" + Bokeh.version + \" successfully loaded.\";\n",
       "    } else if (Date.now() < window._bokeh_timeout) {\n",
       "      setTimeout(display_loaded, 100)\n",
       "    }\n",
       "  }\n",
       "\n",
       "  function run_callbacks() {\n",
       "    window._bokeh_onload_callbacks.forEach(function(callback) { callback() });\n",
       "    delete window._bokeh_onload_callbacks\n",
       "    console.info(\"Bokeh: all callbacks have finished\");\n",
       "  }\n",
       "\n",
       "  function load_libs(js_urls, callback) {\n",
       "    window._bokeh_onload_callbacks.push(callback);\n",
       "    if (window._bokeh_is_loading > 0) {\n",
       "      console.log(\"Bokeh: BokehJS is being loaded, scheduling callback at\", now());\n",
       "      return null;\n",
       "    }\n",
       "    if (js_urls == null || js_urls.length === 0) {\n",
       "      run_callbacks();\n",
       "      return null;\n",
       "    }\n",
       "    console.log(\"Bokeh: BokehJS not loaded, scheduling load and callback at\", now());\n",
       "    window._bokeh_is_loading = js_urls.length;\n",
       "    for (var i = 0; i < js_urls.length; i++) {\n",
       "      var url = js_urls[i];\n",
       "      var s = document.createElement('script');\n",
       "      s.src = url;\n",
       "      s.async = false;\n",
       "      s.onreadystatechange = s.onload = function() {\n",
       "        window._bokeh_is_loading--;\n",
       "        if (window._bokeh_is_loading === 0) {\n",
       "          console.log(\"Bokeh: all BokehJS libraries loaded\");\n",
       "          run_callbacks()\n",
       "        }\n",
       "      };\n",
       "      s.onerror = function() {\n",
       "        console.warn(\"failed to load library \" + url);\n",
       "      };\n",
       "      console.log(\"Bokeh: injecting script tag for BokehJS library: \", url);\n",
       "      document.getElementsByTagName(\"head\")[0].appendChild(s);\n",
       "    }\n",
       "  };var element = document.getElementById(\"7b2b9b46-b778-4726-a0aa-dc30aff8450a\");\n",
       "  if (element == null) {\n",
       "    console.log(\"Bokeh: ERROR: autoload.js configured with elementid '7b2b9b46-b778-4726-a0aa-dc30aff8450a' but no matching script tag was found. \")\n",
       "    return false;\n",
       "  }\n",
       "\n",
       "  var js_urls = [\"https://cdn.pydata.org/bokeh/release/bokeh-0.12.5.min.js\", \"https://cdn.pydata.org/bokeh/release/bokeh-widgets-0.12.5.min.js\"];\n",
       "\n",
       "  var inline_js = [\n",
       "    function(Bokeh) {\n",
       "      Bokeh.set_log_level(\"info\");\n",
       "    },\n",
       "    \n",
       "    function(Bokeh) {\n",
       "      \n",
       "    },\n",
       "    \n",
       "    function(Bokeh) {\n",
       "      \n",
       "      document.getElementById(\"7b2b9b46-b778-4726-a0aa-dc30aff8450a\").textContent = \"BokehJS is loading...\";\n",
       "    },\n",
       "    function(Bokeh) {\n",
       "      console.log(\"Bokeh: injecting CSS: https://cdn.pydata.org/bokeh/release/bokeh-0.12.5.min.css\");\n",
       "      Bokeh.embed.inject_css(\"https://cdn.pydata.org/bokeh/release/bokeh-0.12.5.min.css\");\n",
       "      console.log(\"Bokeh: injecting CSS: https://cdn.pydata.org/bokeh/release/bokeh-widgets-0.12.5.min.css\");\n",
       "      Bokeh.embed.inject_css(\"https://cdn.pydata.org/bokeh/release/bokeh-widgets-0.12.5.min.css\");\n",
       "    }\n",
       "  ];\n",
       "\n",
       "  function run_inline_js() {\n",
       "    \n",
       "    if ((window.Bokeh !== undefined) || (force === true)) {\n",
       "      for (var i = 0; i < inline_js.length; i++) {\n",
       "        inline_js[i](window.Bokeh);\n",
       "      }if (force === true) {\n",
       "        display_loaded();\n",
       "      }} else if (Date.now() < window._bokeh_timeout) {\n",
       "      setTimeout(run_inline_js, 100);\n",
       "    } else if (!window._bokeh_failed_load) {\n",
       "      console.log(\"Bokeh: BokehJS failed to load within specified timeout.\");\n",
       "      window._bokeh_failed_load = true;\n",
       "    } else if (force !== true) {\n",
       "      var cell = $(document.getElementById(\"7b2b9b46-b778-4726-a0aa-dc30aff8450a\")).parents('.cell').data().cell;\n",
       "      cell.output_area.append_execute_result(NB_LOAD_WARNING)\n",
       "    }\n",
       "\n",
       "  }\n",
       "\n",
       "  if (window._bokeh_is_loading === 0) {\n",
       "    console.log(\"Bokeh: BokehJS loaded, going straight to plotting\");\n",
       "    run_inline_js();\n",
       "  } else {\n",
       "    load_libs(js_urls, function() {\n",
       "      console.log(\"Bokeh: BokehJS plotting callback run at\", now());\n",
       "      run_inline_js();\n",
       "    });\n",
       "  }\n",
       "}(this));"
      ]
     },
     "metadata": {},
     "output_type": "display_data"
    }
   ],
   "source": [
    "from bokeh.models import ColumnDataSource, LabelSet\n",
    "from bokeh.plotting import figure, show, output_file\n",
    "from bokeh.io import output_notebook\n",
    "output_notebook()"
   ]
  },
  {
   "cell_type": "markdown",
   "metadata": {},
   "source": [
    "### Part 0: Download the TED dataset"
   ]
  },
  {
   "cell_type": "code",
   "execution_count": 3,
   "metadata": {
    "collapsed": true
   },
   "outputs": [],
   "source": [
    "import urllib.request\n",
    "import zipfile\n",
    "import lxml.etree"
   ]
  },
  {
   "cell_type": "code",
   "execution_count": 4,
   "metadata": {
    "collapsed": true
   },
   "outputs": [],
   "source": [
    "# Download the dataset if it's not already there: this may take a minute as it is 75MB\n",
    "if not os.path.isfile('ted_en-20160408.zip'):\n",
    "    urllib.request.urlretrieve(\"https://wit3.fbk.eu/get.php?path=XML_releases/xml/ted_en-20160408.zip&filename=ted_en-20160408.zip\", filename=\"ted_en-20160408.zip\")"
   ]
  },
  {
   "cell_type": "code",
   "execution_count": 5,
   "metadata": {
    "collapsed": true
   },
   "outputs": [],
   "source": [
    "# For now, we're only interested in the subtitle text, so let's extract that from the XML:\n",
    "with zipfile.ZipFile('ted_en-20160408.zip', 'r') as z:\n",
    "    doc = lxml.etree.parse(z.open('ted_en-20160408.xml', 'r'))\n",
    "input_text = '\\n'.join(doc.xpath('//content/text()'))\n",
    "del doc"
   ]
  },
  {
   "cell_type": "markdown",
   "metadata": {},
   "source": [
    "### Part 1: Preprocessing\n",
    "\n",
    "In this part, we attempt to clean up the raw subtitles a bit, so that we get only sentences. The following substring shows examples of what we're trying to get rid of. Since it's hard to define precisely what we want to get rid of, we'll just use some simple heuristics."
   ]
  },
  {
   "cell_type": "code",
   "execution_count": 6,
   "metadata": {
    "scrolled": false
   },
   "outputs": [
    {
     "data": {
      "text/plain": [
       "' baby does.\\n(Video) Hyowon Gweon: See this? (Ball squeaks) Did you see that? (Ball squeaks) Cool. See this one? (Ball squeaks) Wow.\\nLaura Schulz: Told you. (Laughs)\\n(Vide'"
      ]
     },
     "execution_count": 6,
     "metadata": {},
     "output_type": "execute_result"
    }
   ],
   "source": [
    "i = input_text.find(\"Hyowon Gweon: See this?\")\n",
    "input_text[i-20:i+150]"
   ]
  },
  {
   "cell_type": "markdown",
   "metadata": {},
   "source": [
    "Let's start by removing all parenthesized strings using a regex:"
   ]
  },
  {
   "cell_type": "code",
   "execution_count": 7,
   "metadata": {
    "collapsed": true
   },
   "outputs": [],
   "source": [
    "input_text_noparens = re.sub(r'\\([^)]*\\)', '', input_text)"
   ]
  },
  {
   "cell_type": "markdown",
   "metadata": {},
   "source": [
    "We can verify the same location in the text is now clean as follows. We won't worry about the irregular spaces since we'll later split the text into sentences and tokenize it anyway."
   ]
  },
  {
   "cell_type": "code",
   "execution_count": 8,
   "metadata": {},
   "outputs": [
    {
     "data": {
      "text/plain": [
       "\"hat the baby does.\\n Hyowon Gweon: See this?  Did you see that?  Cool. See this one?  Wow.\\nLaura Schulz: Told you. \\n HG: See this one?  Hey Clara, this one's for you. You \""
      ]
     },
     "execution_count": 8,
     "metadata": {},
     "output_type": "execute_result"
    }
   ],
   "source": [
    "i = input_text_noparens.find(\"Hyowon Gweon: See this?\")\n",
    "input_text_noparens[i-20:i+150]"
   ]
  },
  {
   "cell_type": "markdown",
   "metadata": {},
   "source": [
    "Now, let's attempt to remove speakers' names that occur at the beginning of a line, by deleting pieces of the form \"`<up to 20 characters>:`\", as shown in this example. Of course, this is an imperfect heuristic. "
   ]
  },
  {
   "cell_type": "code",
   "execution_count": 9,
   "metadata": {},
   "outputs": [
    {
     "data": {
      "text/plain": [
       "[\"Here are two reasons companies fail: they only do more of the same, or they only do what's new\",\n",
       " 'To me the real, real solution to quality growth is figuring out the balance between two activities: exploration and exploitation',\n",
       " ' Both are necessary, but it can be too much of a good thing',\n",
       " 'Consider Facit',\n",
       " \" I'm actually old enough to remember them\"]"
      ]
     },
     "execution_count": 9,
     "metadata": {},
     "output_type": "execute_result"
    }
   ],
   "source": [
    "sentences_strings_ted = []\n",
    "for line in input_text_noparens.split('\\n'):\n",
    "    m = re.match(r'^(?:(?P<precolon>[^:]{,20}):)?(?P<postcolon>.*)$', line)\n",
    "    sentences_strings_ted.extend(sent for sent in m.groupdict()['postcolon'].split('.') if sent)\n",
    "\n",
    "# Uncomment if you need to save some RAM: these strings are about 50MB.\n",
    "# del input_text, input_text_noparens\n",
    "\n",
    "# Let's view the first few:\n",
    "sentences_strings_ted[:5]"
   ]
  },
  {
   "cell_type": "markdown",
   "metadata": {},
   "source": [
    "Now that we have sentences, we're ready to tokenize each of them into words. This tokenization is imperfect, of course. For instance, how many tokens is \"can't\", and where/how do we split it? We'll take the simplest naive approach of splitting on spaces. Before splitting, we remove non-alphanumeric characters, such as punctuation. You may want to consider the following question: why do we replace these characters with spaces rather than deleting them? Think of a case where this yields a different answer."
   ]
  },
  {
   "cell_type": "code",
   "execution_count": 10,
   "metadata": {
    "collapsed": true
   },
   "outputs": [],
   "source": [
    "sentences_ted = []\n",
    "for sent_str in sentences_strings_ted:\n",
    "    tokens = re.sub(r\"[^a-z0-9]+\", \" \", sent_str.lower()).split()\n",
    "    sentences_ted.append(tokens)"
   ]
  },
  {
   "cell_type": "markdown",
   "metadata": {},
   "source": [
    "Two sample processed sentences:"
   ]
  },
  {
   "cell_type": "code",
   "execution_count": 11,
   "metadata": {},
   "outputs": [
    {
     "data": {
      "text/plain": [
       "266694"
      ]
     },
     "execution_count": 11,
     "metadata": {},
     "output_type": "execute_result"
    }
   ],
   "source": [
    "len(sentences_ted)"
   ]
  },
  {
   "cell_type": "code",
   "execution_count": 12,
   "metadata": {},
   "outputs": [
    {
     "name": "stdout",
     "output_type": "stream",
     "text": [
      "['here', 'are', 'two', 'reasons', 'companies', 'fail', 'they', 'only', 'do', 'more', 'of', 'the', 'same', 'or', 'they', 'only', 'do', 'what', 's', 'new']\n",
      "['to', 'me', 'the', 'real', 'real', 'solution', 'to', 'quality', 'growth', 'is', 'figuring', 'out', 'the', 'balance', 'between', 'two', 'activities', 'exploration', 'and', 'exploitation']\n"
     ]
    }
   ],
   "source": [
    "print(sentences_ted[0])\n",
    "print(sentences_ted[1])"
   ]
  },
  {
   "cell_type": "markdown",
   "metadata": {},
   "source": [
    "### Part 2: Word Frequencies"
   ]
  },
  {
   "cell_type": "markdown",
   "metadata": {},
   "source": [
    "If you store the counts of the top 1000 words in a list called `counts_ted_top1000`, the code below will plot the histogram requested in the writeup."
   ]
  },
  {
   "cell_type": "code",
   "execution_count": 13,
   "metadata": {
    "collapsed": true
   },
   "outputs": [],
   "source": [
    "from collections import Counter\n",
    "from itertools import chain"
   ]
  },
  {
   "cell_type": "code",
   "execution_count": 14,
   "metadata": {
    "collapsed": true
   },
   "outputs": [],
   "source": [
    "words_top_ted, counts_ted_top1000 = zip(*Counter(chain.from_iterable(sentences_ted)).most_common(1000))"
   ]
  },
  {
   "cell_type": "markdown",
   "metadata": {},
   "source": [
    "Plot distribution of top-1000 words"
   ]
  },
  {
   "cell_type": "code",
   "execution_count": 15,
   "metadata": {},
   "outputs": [
    {
     "data": {
      "text/html": [
       "\n",
       "\n",
       "    <div class=\"bk-root\">\n",
       "        <div class=\"bk-plotdiv\" id=\"1c7e95f2-0843-428f-837f-ea8e4fbf8f4d\"></div>\n",
       "    </div>\n",
       "<script type=\"text/javascript\">\n",
       "  \n",
       "  (function(global) {\n",
       "    function now() {\n",
       "      return new Date();\n",
       "    }\n",
       "  \n",
       "    var force = false;\n",
       "  \n",
       "    if (typeof (window._bokeh_onload_callbacks) === \"undefined\" || force === true) {\n",
       "      window._bokeh_onload_callbacks = [];\n",
       "      window._bokeh_is_loading = undefined;\n",
       "    }\n",
       "  \n",
       "  \n",
       "    \n",
       "    if (typeof (window._bokeh_timeout) === \"undefined\" || force === true) {\n",
       "      window._bokeh_timeout = Date.now() + 0;\n",
       "      window._bokeh_failed_load = false;\n",
       "    }\n",
       "  \n",
       "    var NB_LOAD_WARNING = {'data': {'text/html':\n",
       "       \"<div style='background-color: #fdd'>\\n\"+\n",
       "       \"<p>\\n\"+\n",
       "       \"BokehJS does not appear to have successfully loaded. If loading BokehJS from CDN, this \\n\"+\n",
       "       \"may be due to a slow or bad network connection. Possible fixes:\\n\"+\n",
       "       \"</p>\\n\"+\n",
       "       \"<ul>\\n\"+\n",
       "       \"<li>re-rerun `output_notebook()` to attempt to load from CDN again, or</li>\\n\"+\n",
       "       \"<li>use INLINE resources instead, as so:</li>\\n\"+\n",
       "       \"</ul>\\n\"+\n",
       "       \"<code>\\n\"+\n",
       "       \"from bokeh.resources import INLINE\\n\"+\n",
       "       \"output_notebook(resources=INLINE)\\n\"+\n",
       "       \"</code>\\n\"+\n",
       "       \"</div>\"}};\n",
       "  \n",
       "    function display_loaded() {\n",
       "      if (window.Bokeh !== undefined) {\n",
       "        var el = document.getElementById(\"1c7e95f2-0843-428f-837f-ea8e4fbf8f4d\");\n",
       "        el.textContent = \"BokehJS \" + Bokeh.version + \" successfully loaded.\";\n",
       "      } else if (Date.now() < window._bokeh_timeout) {\n",
       "        setTimeout(display_loaded, 100)\n",
       "      }\n",
       "    }\n",
       "  \n",
       "    function run_callbacks() {\n",
       "      window._bokeh_onload_callbacks.forEach(function(callback) { callback() });\n",
       "      delete window._bokeh_onload_callbacks\n",
       "      console.info(\"Bokeh: all callbacks have finished\");\n",
       "    }\n",
       "  \n",
       "    function load_libs(js_urls, callback) {\n",
       "      window._bokeh_onload_callbacks.push(callback);\n",
       "      if (window._bokeh_is_loading > 0) {\n",
       "        console.log(\"Bokeh: BokehJS is being loaded, scheduling callback at\", now());\n",
       "        return null;\n",
       "      }\n",
       "      if (js_urls == null || js_urls.length === 0) {\n",
       "        run_callbacks();\n",
       "        return null;\n",
       "      }\n",
       "      console.log(\"Bokeh: BokehJS not loaded, scheduling load and callback at\", now());\n",
       "      window._bokeh_is_loading = js_urls.length;\n",
       "      for (var i = 0; i < js_urls.length; i++) {\n",
       "        var url = js_urls[i];\n",
       "        var s = document.createElement('script');\n",
       "        s.src = url;\n",
       "        s.async = false;\n",
       "        s.onreadystatechange = s.onload = function() {\n",
       "          window._bokeh_is_loading--;\n",
       "          if (window._bokeh_is_loading === 0) {\n",
       "            console.log(\"Bokeh: all BokehJS libraries loaded\");\n",
       "            run_callbacks()\n",
       "          }\n",
       "        };\n",
       "        s.onerror = function() {\n",
       "          console.warn(\"failed to load library \" + url);\n",
       "        };\n",
       "        console.log(\"Bokeh: injecting script tag for BokehJS library: \", url);\n",
       "        document.getElementsByTagName(\"head\")[0].appendChild(s);\n",
       "      }\n",
       "    };var element = document.getElementById(\"1c7e95f2-0843-428f-837f-ea8e4fbf8f4d\");\n",
       "    if (element == null) {\n",
       "      console.log(\"Bokeh: ERROR: autoload.js configured with elementid '1c7e95f2-0843-428f-837f-ea8e4fbf8f4d' but no matching script tag was found. \")\n",
       "      return false;\n",
       "    }\n",
       "  \n",
       "    var js_urls = [];\n",
       "  \n",
       "    var inline_js = [\n",
       "      function(Bokeh) {\n",
       "        (function() {\n",
       "          var fn = function() {\n",
       "            var docs_json = {\"4bcabe96-ac79-4e0c-91f5-d7a79cb7ce4d\":{\"roots\":{\"references\":[{\"attributes\":{\"bottom\":{\"value\":0},\"fill_color\":{\"value\":\"#1f77b4\"},\"left\":{\"field\":\"left\"},\"line_color\":{\"value\":\"#555555\"},\"right\":{\"field\":\"right\"},\"top\":{\"field\":\"top\"}},\"id\":\"d70d3791-81ef-442e-93fc-97c26a5b8b9c\",\"type\":\"Quad\"},{\"attributes\":{\"plot\":{\"id\":\"be83eb32-5cfe-4603-9685-eb3b2f014e1e\",\"subtype\":\"Figure\",\"type\":\"Plot\"},\"ticker\":{\"id\":\"169ba53e-5c32-49a4-a6ea-17ddc4fb8334\",\"type\":\"BasicTicker\"}},\"id\":\"930013cb-e9fc-49e1-9607-9c35dfac956b\",\"type\":\"Grid\"},{\"attributes\":{\"formatter\":{\"id\":\"f602fad0-a790-4780-aa12-983808904929\",\"type\":\"BasicTickFormatter\"},\"plot\":{\"id\":\"be83eb32-5cfe-4603-9685-eb3b2f014e1e\",\"subtype\":\"Figure\",\"type\":\"Plot\"},\"ticker\":{\"id\":\"d3509801-b63b-4aad-bf91-34059891c942\",\"type\":\"BasicTicker\"}},\"id\":\"9ed62d9d-c351-4636-bc86-26ebae14ceae\",\"type\":\"LinearAxis\"},{\"attributes\":{},\"id\":\"d3509801-b63b-4aad-bf91-34059891c942\",\"type\":\"BasicTicker\"},{\"attributes\":{\"dimension\":1,\"plot\":{\"id\":\"be83eb32-5cfe-4603-9685-eb3b2f014e1e\",\"subtype\":\"Figure\",\"type\":\"Plot\"},\"ticker\":{\"id\":\"d3509801-b63b-4aad-bf91-34059891c942\",\"type\":\"BasicTicker\"}},\"id\":\"cdef61ac-1557-4105-aeb9-e358dd3a5f8a\",\"type\":\"Grid\"},{\"attributes\":{\"plot\":{\"id\":\"be83eb32-5cfe-4603-9685-eb3b2f014e1e\",\"subtype\":\"Figure\",\"type\":\"Plot\"}},\"id\":\"a9bd78e6-76fc-4ff1-8b46-c3c200942642\",\"type\":\"PanTool\"},{\"attributes\":{\"bottom\":{\"value\":0},\"fill_alpha\":{\"value\":0.1},\"fill_color\":{\"value\":\"#1f77b4\"},\"left\":{\"field\":\"left\"},\"line_alpha\":{\"value\":0.1},\"line_color\":{\"value\":\"#1f77b4\"},\"right\":{\"field\":\"right\"},\"top\":{\"field\":\"top\"}},\"id\":\"27e2082a-56ab-4242-b4b5-f9bcdcae88a5\",\"type\":\"Quad\"},{\"attributes\":{\"plot\":{\"id\":\"be83eb32-5cfe-4603-9685-eb3b2f014e1e\",\"subtype\":\"Figure\",\"type\":\"Plot\"}},\"id\":\"36e92c95-1c04-4df4-a2d0-598713e986e8\",\"type\":\"WheelZoomTool\"},{\"attributes\":{\"plot\":{\"id\":\"be83eb32-5cfe-4603-9685-eb3b2f014e1e\",\"subtype\":\"Figure\",\"type\":\"Plot\"}},\"id\":\"e8c066d9-4ef5-4519-baa3-3fce6c88ac52\",\"type\":\"ResetTool\"},{\"attributes\":{\"data_source\":{\"id\":\"971fcde7-8608-4f3d-b1f2-566fafdd424c\",\"type\":\"ColumnDataSource\"},\"glyph\":{\"id\":\"d70d3791-81ef-442e-93fc-97c26a5b8b9c\",\"type\":\"Quad\"},\"hover_glyph\":null,\"muted_glyph\":null,\"nonselection_glyph\":{\"id\":\"27e2082a-56ab-4242-b4b5-f9bcdcae88a5\",\"type\":\"Quad\"},\"selection_glyph\":null},\"id\":\"22ebb01b-64c1-4d4f-bcd0-c44c0adbec25\",\"type\":\"GlyphRenderer\"},{\"attributes\":{\"plot\":{\"id\":\"be83eb32-5cfe-4603-9685-eb3b2f014e1e\",\"subtype\":\"Figure\",\"type\":\"Plot\"}},\"id\":\"e55788d4-431c-423c-a071-73f6011e59c2\",\"type\":\"SaveTool\"},{\"attributes\":{\"callback\":null,\"column_names\":[\"left\",\"right\",\"top\"],\"data\":{\"left\":{\"__ndarray__\":\"AAAAAABAeUB7FK5H4VqjQHsUrkfhxrFAuB6F61HguUB7FK5H4fzAQJqZmZmZCcVAuB6F61EWyUDXo3A9CiPNQHsUrkfhl9BACtejcD2e0kCamZmZmaTUQClcj8L1qtZAuB6F61Gx2EBI4XoUrrfaQNejcD0KvtxAZ2ZmZmbE3kB7FK5HYWXgQMP1KFyPaOFACtejcL1r4kBSuB6F627jQJqZmZkZcuRA4XoUrkd15UApXI/CdXjmQHE9Cteje+dAuB6F69F+6EAAAAAAAILpQEjhehQuhepAkML1KFyI60DXo3A9iovsQB+F61G4ju1AZ2ZmZuaR7kCuR+F6FJXvQHsUrkchTPBAH4XrUbjN8EDD9ShcT0/xQGdmZmbm0PFACtejcH1S8kCuR+F6FNTyQFK4HoWrVfNA9ihcj0LX80CamZmZ2Vj0QD4K16Nw2vRA4XoUrgdc9UCF61G4nt31QClcj8I1X/ZAzczMzMzg9kBxPQrXY2L3QBWuR+H64/dAuB6F65Fl+EBcj8L1KOf4QAAAAADAaPlApHA9Clfq+UBI4XoU7mv6QOxRuB6F7fpAkML1KBxv+0AzMzMzs/D7QNejcD1KcvxAexSuR+Hz/EAfhetReHX9QMP1KFwP9/1AZ2ZmZqZ4/kAK16NwPfr+QK5H4XrUe/9AUrgehWv9/0B7FK5HgT8AQc3MzMxMgABBH4XrURjBAEFxPQrX4wEBQcP1KFyvQgFBFa5H4XqDAUFnZmZmRsQBQbgehesRBQJBCtejcN1FAkFcj8L1qIYCQa5H4Xp0xwJBAAAAAEAIA0FSuB6FC0kDQaRwPQrXiQNB9ihcj6LKA0FI4XoUbgsEQZqZmZk5TARB7FG4HgWNBEE+Ctej0M0EQZDC9SicDgVB4XoUrmdPBUEzMzMzM5AFQYXrUbj+0AVB16NwPcoRBkEpXI/ClVIGQXsUrkdhkwZBzczMzCzUBkEfhetR+BQHQXE9CtfDVQdBw/UoXI+WB0EVrkfhWtcHQWdmZmYmGAhBuB6F6/FYCEEK16NwvZkIQVyPwvWI2ghBrkfhelQbCUE=\",\"dtype\":\"float64\",\"shape\":[100]},\"right\":{\"__ndarray__\":\"exSuR+Fao0B7FK5H4caxQLgehetR4LlAexSuR+H8wECamZmZmQnFQLgehetRFslA16NwPQojzUB7FK5H4ZfQQArXo3A9ntJAmpmZmZmk1EApXI/C9arWQLgehetRsdhASOF6FK632kDXo3A9Cr7cQGdmZmZmxN5AexSuR2Fl4EDD9Shcj2jhQArXo3C9a+JAUrgehetu40CamZmZGXLkQOF6FK5HdeVAKVyPwnV45kBxPQrXo3vnQLgehevRfuhAAAAAAACC6UBI4XoULoXqQJDC9ShciOtA16NwPYqL7EAfhetRuI7tQGdmZmbmke5ArkfhehSV70B7FK5HIUzwQB+F61G4zfBAw/UoXE9P8UBnZmZm5tDxQArXo3B9UvJArkfhehTU8kBSuB6Fq1XzQPYoXI9C1/NAmpmZmdlY9EA+CtejcNr0QOF6FK4HXPVAhetRuJ7d9UApXI/CNV/2QM3MzMzM4PZAcT0K12Ni90AVrkfh+uP3QLgeheuRZfhAXI/C9Sjn+EAAAAAAwGj5QKRwPQpX6vlASOF6FO5r+kDsUbgehe36QJDC9Sgcb/tAMzMzM7Pw+0DXo3A9SnL8QHsUrkfh8/xAH4XrUXh1/UDD9ShcD/f9QGdmZmameP5ACtejcD36/kCuR+F61Hv/QFK4HoVr/f9AexSuR4E/AEHNzMzMTIAAQR+F61EYwQBBcT0K1+MBAUHD9Shcr0IBQRWuR+F6gwFBZ2ZmZkbEAUG4HoXrEQUCQQrXo3DdRQJBXI/C9aiGAkGuR+F6dMcCQQAAAABACANBUrgehQtJA0GkcD0K14kDQfYoXI+iygNBSOF6FG4LBEGamZmZOUwEQexRuB4FjQRBPgrXo9DNBEGQwvUonA4FQeF6FK5nTwVBMzMzMzOQBUGF61G4/tAFQdejcD3KEQZBKVyPwpVSBkF7FK5HYZMGQc3MzMws1AZBH4XrUfgUB0FxPQrXw1UHQcP1KFyPlgdBFa5H4VrXB0FnZmZmJhgIQbgehevxWAhBCtejcL2ZCEFcj8L1iNoIQa5H4XpUGwlBAAAAACBcCUE=\",\"dtype\":\"float64\",\"shape\":[100]},\"top\":{\"__ndarray__\":\"50H1zNSBOT/ypb1tgHIBPwsriUb5Uew+zuTFiLI04j78kGUPxTHhPh40R25oQNY+zuTFiLI00j4pPQWW1y7APsTbB2FDRsg+JT0FltcuwD4tPQWW1y6wPi09BZbXLrA+JT0FltcuwD4tPQWW1y6gPiU9BZbXLrA+LT0FltcuoD4AAAAAAAAAADU9BZbXLqA+AAAAAAAAAAAAAAAAAAAAAAAAAAAAAAAAAAAAAAAAAAAAAAAAAAAAADU9BZbXLqA+AAAAAAAAAAAAAAAAAAAAAAAAAAAAAAAANT0FltcuoD4AAAAAAAAAAAAAAAAAAAAANT0FltcuoD4AAAAAAAAAACU9BZbXLqA+AAAAAAAAAAAlPQWW1y6gPkU9BZbXLqA+AAAAAAAAAAAlPQWW1y6gPgAAAAAAAAAAJT0FltcuoD4AAAAAAAAAAAAAAAAAAAAAAAAAAAAAAAAAAAAAAAAAAAAAAAAAAAAAJT0FltcuoD4AAAAAAAAAAAAAAAAAAAAAAAAAAAAAAAAAAAAAAAAAACU9BZbXLqA+AAAAAAAAAAAAAAAAAAAAAAAAAAAAAAAAAAAAAAAAAAAlPQWW1y6gPgAAAAAAAAAAAAAAAAAAAAAAAAAAAAAAAAAAAAAAAAAART0FltcuoD4AAAAAAAAAAAAAAAAAAAAAAAAAAAAAAAAAAAAAAAAAAAAAAAAAAAAAAAAAAAAAAAAAAAAAAAAAAAAAAAAAAAAAAAAAAAAAAAAAAAAAAAAAACU9BZbXLqA+AAAAAAAAAAAAAAAAAAAAAAAAAAAAAAAAAAAAAAAAAAAAAAAAAAAAAAAAAAAAAAAAAAAAAAAAAAAAAAAAAAAAAAAAAAAAAAAAAAAAAAAAAAAAAAAAAAAAAAAAAAAAAAAAAAAAAAAAAAAAAAAAAAAAAAAAAAAAAAAAAAAAAAAAAAAAAAAAAAAAAAAAAAAAAAAAAAAAAAAAAAAAAAAAAAAAAAAAAAAAAAAAAAAAAAAAAAAAAAAAAAAAAAAAAAAAAAAAAAAAAAAAAAAAAAAAAAAAAAAAAAAAAAAAJT0FltcuoD4=\",\"dtype\":\"float64\",\"shape\":[100]}}},\"id\":\"971fcde7-8608-4f3d-b1f2-566fafdd424c\",\"type\":\"ColumnDataSource\"},{\"attributes\":{\"plot\":null,\"text\":\"Top-1000 words distribution\"},\"id\":\"f0e3e60a-ca12-4930-a642-fc6f2960d0e6\",\"type\":\"Title\"},{\"attributes\":{\"below\":[{\"id\":\"a72bb23d-9422-4711-a355-9b0f82c0beb5\",\"type\":\"LinearAxis\"}],\"left\":[{\"id\":\"9ed62d9d-c351-4636-bc86-26ebae14ceae\",\"type\":\"LinearAxis\"}],\"renderers\":[{\"id\":\"a72bb23d-9422-4711-a355-9b0f82c0beb5\",\"type\":\"LinearAxis\"},{\"id\":\"930013cb-e9fc-49e1-9607-9c35dfac956b\",\"type\":\"Grid\"},{\"id\":\"9ed62d9d-c351-4636-bc86-26ebae14ceae\",\"type\":\"LinearAxis\"},{\"id\":\"cdef61ac-1557-4105-aeb9-e358dd3a5f8a\",\"type\":\"Grid\"},{\"id\":\"22ebb01b-64c1-4d4f-bcd0-c44c0adbec25\",\"type\":\"GlyphRenderer\"}],\"title\":{\"id\":\"f0e3e60a-ca12-4930-a642-fc6f2960d0e6\",\"type\":\"Title\"},\"tool_events\":{\"id\":\"29111e32-3f27-475a-897c-75990c46d0e7\",\"type\":\"ToolEvents\"},\"toolbar\":{\"id\":\"78e49608-8f5f-4130-b5eb-b09afdc69e53\",\"type\":\"Toolbar\"},\"toolbar_location\":\"above\",\"x_range\":{\"id\":\"48c6a54d-f3c8-4910-9aaa-40b84107b888\",\"type\":\"DataRange1d\"},\"y_range\":{\"id\":\"1301f82d-c4e1-418d-ae65-acc6fe8d6554\",\"type\":\"DataRange1d\"}},\"id\":\"be83eb32-5cfe-4603-9685-eb3b2f014e1e\",\"subtype\":\"Figure\",\"type\":\"Plot\"},{\"attributes\":{},\"id\":\"6ca50e25-5f3a-4614-9c8d-459a688681f0\",\"type\":\"BasicTickFormatter\"},{\"attributes\":{\"callback\":null},\"id\":\"48c6a54d-f3c8-4910-9aaa-40b84107b888\",\"type\":\"DataRange1d\"},{\"attributes\":{},\"id\":\"f602fad0-a790-4780-aa12-983808904929\",\"type\":\"BasicTickFormatter\"},{\"attributes\":{},\"id\":\"29111e32-3f27-475a-897c-75990c46d0e7\",\"type\":\"ToolEvents\"},{\"attributes\":{\"active_drag\":\"auto\",\"active_scroll\":\"auto\",\"active_tap\":\"auto\",\"tools\":[{\"id\":\"a9bd78e6-76fc-4ff1-8b46-c3c200942642\",\"type\":\"PanTool\"},{\"id\":\"36e92c95-1c04-4df4-a2d0-598713e986e8\",\"type\":\"WheelZoomTool\"},{\"id\":\"e8c066d9-4ef5-4519-baa3-3fce6c88ac52\",\"type\":\"ResetTool\"},{\"id\":\"e55788d4-431c-423c-a071-73f6011e59c2\",\"type\":\"SaveTool\"}]},\"id\":\"78e49608-8f5f-4130-b5eb-b09afdc69e53\",\"type\":\"Toolbar\"},{\"attributes\":{},\"id\":\"169ba53e-5c32-49a4-a6ea-17ddc4fb8334\",\"type\":\"BasicTicker\"},{\"attributes\":{\"formatter\":{\"id\":\"6ca50e25-5f3a-4614-9c8d-459a688681f0\",\"type\":\"BasicTickFormatter\"},\"plot\":{\"id\":\"be83eb32-5cfe-4603-9685-eb3b2f014e1e\",\"subtype\":\"Figure\",\"type\":\"Plot\"},\"ticker\":{\"id\":\"169ba53e-5c32-49a4-a6ea-17ddc4fb8334\",\"type\":\"BasicTicker\"}},\"id\":\"a72bb23d-9422-4711-a355-9b0f82c0beb5\",\"type\":\"LinearAxis\"},{\"attributes\":{\"callback\":null},\"id\":\"1301f82d-c4e1-418d-ae65-acc6fe8d6554\",\"type\":\"DataRange1d\"}],\"root_ids\":[\"be83eb32-5cfe-4603-9685-eb3b2f014e1e\"]},\"title\":\"Bokeh Application\",\"version\":\"0.12.5\"}};\n",
       "            var render_items = [{\"docid\":\"4bcabe96-ac79-4e0c-91f5-d7a79cb7ce4d\",\"elementid\":\"1c7e95f2-0843-428f-837f-ea8e4fbf8f4d\",\"modelid\":\"be83eb32-5cfe-4603-9685-eb3b2f014e1e\"}];\n",
       "            \n",
       "            Bokeh.embed.embed_items(docs_json, render_items);\n",
       "          };\n",
       "          if (document.readyState != \"loading\") fn();\n",
       "          else document.addEventListener(\"DOMContentLoaded\", fn);\n",
       "        })();\n",
       "      },\n",
       "      function(Bokeh) {\n",
       "      }\n",
       "    ];\n",
       "  \n",
       "    function run_inline_js() {\n",
       "      \n",
       "      if ((window.Bokeh !== undefined) || (force === true)) {\n",
       "        for (var i = 0; i < inline_js.length; i++) {\n",
       "          inline_js[i](window.Bokeh);\n",
       "        }if (force === true) {\n",
       "          display_loaded();\n",
       "        }} else if (Date.now() < window._bokeh_timeout) {\n",
       "        setTimeout(run_inline_js, 100);\n",
       "      } else if (!window._bokeh_failed_load) {\n",
       "        console.log(\"Bokeh: BokehJS failed to load within specified timeout.\");\n",
       "        window._bokeh_failed_load = true;\n",
       "      } else if (force !== true) {\n",
       "        var cell = $(document.getElementById(\"1c7e95f2-0843-428f-837f-ea8e4fbf8f4d\")).parents('.cell').data().cell;\n",
       "        cell.output_area.append_execute_result(NB_LOAD_WARNING)\n",
       "      }\n",
       "  \n",
       "    }\n",
       "  \n",
       "    if (window._bokeh_is_loading === 0) {\n",
       "      console.log(\"Bokeh: BokehJS loaded, going straight to plotting\");\n",
       "      run_inline_js();\n",
       "    } else {\n",
       "      load_libs(js_urls, function() {\n",
       "        console.log(\"Bokeh: BokehJS plotting callback run at\", now());\n",
       "        run_inline_js();\n",
       "      });\n",
       "    }\n",
       "  }(this));\n",
       "</script>"
      ]
     },
     "metadata": {},
     "output_type": "display_data"
    }
   ],
   "source": [
    "hist, edges = np.histogram(counts_ted_top1000, density=True, bins=100, normed=True)\n",
    "\n",
    "p = figure(tools=\"pan,wheel_zoom,reset,save\",\n",
    "           toolbar_location=\"above\",\n",
    "           title=\"Top-1000 words distribution\")\n",
    "p.quad(top=hist, bottom=0, left=edges[:-1], right=edges[1:], line_color=\"#555555\")\n",
    "show(p)"
   ]
  },
  {
   "cell_type": "markdown",
   "metadata": {},
   "source": [
    "### Part 3: Train Word2Vec"
   ]
  },
  {
   "cell_type": "code",
   "execution_count": 16,
   "metadata": {
    "collapsed": true
   },
   "outputs": [],
   "source": [
    "from gensim.models import Word2Vec"
   ]
  },
  {
   "cell_type": "code",
   "execution_count": 23,
   "metadata": {
    "collapsed": true
   },
   "outputs": [],
   "source": [
    "model_ted = Word2Vec(sentences_ted, min_count=10)"
   ]
  },
  {
   "cell_type": "markdown",
   "metadata": {},
   "source": [
    "### Part 4: Ted Learnt Representations"
   ]
  },
  {
   "cell_type": "markdown",
   "metadata": {},
   "source": [
    "Finding similar words: (see gensim docs for more functionality of `most_similar`)"
   ]
  },
  {
   "cell_type": "code",
   "execution_count": 28,
   "metadata": {},
   "outputs": [
    {
     "data": {
      "text/plain": [
       "[('color', 0.7627249956130981),\n",
       " ('dangerously', 0.7600773572921753),\n",
       " ('anything', 0.753531813621521),\n",
       " ('brings', 0.6911357045173645),\n",
       " ('jail', 0.6902382373809814),\n",
       " ('alex', 0.6884663105010986),\n",
       " ('native', 0.687020480632782),\n",
       " ('nutrients', 0.6792047619819641),\n",
       " ('community', 0.6767020225524902),\n",
       " ('others', 0.6735906600952148)]"
      ]
     },
     "execution_count": 28,
     "metadata": {},
     "output_type": "execute_result"
    }
   ],
   "source": [
    "model_ted.most_similar(\"man\")"
   ]
  },
  {
   "cell_type": "code",
   "execution_count": 29,
   "metadata": {},
   "outputs": [
    {
     "data": {
      "text/plain": [
       "[('brothers', 0.7555513381958008),\n",
       " ('week', 0.7423095703125),\n",
       " ('wrong', 0.7234964370727539),\n",
       " ('humanitarian', 0.7224706411361694),\n",
       " ('popular', 0.7178178429603577),\n",
       " ('took', 0.7159219980239868),\n",
       " ('realizing', 0.7040586471557617),\n",
       " ('wavelengths', 0.7038640975952148),\n",
       " ('cut', 0.6966745257377625),\n",
       " ('badge', 0.6860905885696411)]"
      ]
     },
     "execution_count": 29,
     "metadata": {},
     "output_type": "execute_result"
    }
   ],
   "source": [
    "model_ted.most_similar(\"computer\")"
   ]
  },
  {
   "cell_type": "code",
   "execution_count": 34,
   "metadata": {},
   "outputs": [
    {
     "data": {
      "text/plain": [
       "[('explaining', 0.7415862679481506),\n",
       " ('astronauts', 0.7257709503173828),\n",
       " ('image', 0.6965261697769165),\n",
       " ('wars', 0.6959823966026306),\n",
       " ('special', 0.6902127265930176),\n",
       " ('ones', 0.6901338696479797),\n",
       " ('zeroes', 0.6857578754425049),\n",
       " ('abundance', 0.6831729412078857),\n",
       " ('continuous', 0.680378794670105),\n",
       " ('himalayas', 0.6799850463867188)]"
      ]
     },
     "execution_count": 34,
     "metadata": {},
     "output_type": "execute_result"
    }
   ],
   "source": [
    "model_ted.most_similar(\"public\")"
   ]
  },
  {
   "cell_type": "markdown",
   "metadata": {},
   "source": [
    "#### t-SNE visualization\n",
    "To use the t-SNE code below, first put a list of the top 1000 words (as strings) into a variable `words_top_ted`. The following code gets the corresponding vectors from the model, assuming it's called `model_ted`:"
   ]
  },
  {
   "cell_type": "code",
   "execution_count": 31,
   "metadata": {
    "collapsed": true
   },
   "outputs": [],
   "source": [
    "# This assumes words_top_ted is a list of strings, the top 1000 words\n",
    "words_top_vec_ted = model_ted[words_top_ted]"
   ]
  },
  {
   "cell_type": "code",
   "execution_count": 32,
   "metadata": {
    "collapsed": true
   },
   "outputs": [],
   "source": [
    "from sklearn.manifold import TSNE\n",
    "tsne = TSNE(n_components=2, random_state=0)\n",
    "words_top_ted_tsne = tsne.fit_transform(words_top_vec_ted)"
   ]
  },
  {
   "cell_type": "code",
   "execution_count": 33,
   "metadata": {},
   "outputs": [
    {
     "data": {
      "text/html": [
       "\n",
       "\n",
       "    <div class=\"bk-root\">\n",
       "        <div class=\"bk-plotdiv\" id=\"0deddcc6-01f2-4f95-942c-f9c18de90dea\"></div>\n",
       "    </div>\n",
       "<script type=\"text/javascript\">\n",
       "  \n",
       "  (function(global) {\n",
       "    function now() {\n",
       "      return new Date();\n",
       "    }\n",
       "  \n",
       "    var force = false;\n",
       "  \n",
       "    if (typeof (window._bokeh_onload_callbacks) === \"undefined\" || force === true) {\n",
       "      window._bokeh_onload_callbacks = [];\n",
       "      window._bokeh_is_loading = undefined;\n",
       "    }\n",
       "  \n",
       "  \n",
       "    \n",
       "    if (typeof (window._bokeh_timeout) === \"undefined\" || force === true) {\n",
       "      window._bokeh_timeout = Date.now() + 0;\n",
       "      window._bokeh_failed_load = false;\n",
       "    }\n",
       "  \n",
       "    var NB_LOAD_WARNING = {'data': {'text/html':\n",
       "       \"<div style='background-color: #fdd'>\\n\"+\n",
       "       \"<p>\\n\"+\n",
       "       \"BokehJS does not appear to have successfully loaded. If loading BokehJS from CDN, this \\n\"+\n",
       "       \"may be due to a slow or bad network connection. Possible fixes:\\n\"+\n",
       "       \"</p>\\n\"+\n",
       "       \"<ul>\\n\"+\n",
       "       \"<li>re-rerun `output_notebook()` to attempt to load from CDN again, or</li>\\n\"+\n",
       "       \"<li>use INLINE resources instead, as so:</li>\\n\"+\n",
       "       \"</ul>\\n\"+\n",
       "       \"<code>\\n\"+\n",
       "       \"from bokeh.resources import INLINE\\n\"+\n",
       "       \"output_notebook(resources=INLINE)\\n\"+\n",
       "       \"</code>\\n\"+\n",
       "       \"</div>\"}};\n",
       "  \n",
       "    function display_loaded() {\n",
       "      if (window.Bokeh !== undefined) {\n",
       "        var el = document.getElementById(\"0deddcc6-01f2-4f95-942c-f9c18de90dea\");\n",
       "        el.textContent = \"BokehJS \" + Bokeh.version + \" successfully loaded.\";\n",
       "      } else if (Date.now() < window._bokeh_timeout) {\n",
       "        setTimeout(display_loaded, 100)\n",
       "      }\n",
       "    }\n",
       "  \n",
       "    function run_callbacks() {\n",
       "      window._bokeh_onload_callbacks.forEach(function(callback) { callback() });\n",
       "      delete window._bokeh_onload_callbacks\n",
       "      console.info(\"Bokeh: all callbacks have finished\");\n",
       "    }\n",
       "  \n",
       "    function load_libs(js_urls, callback) {\n",
       "      window._bokeh_onload_callbacks.push(callback);\n",
       "      if (window._bokeh_is_loading > 0) {\n",
       "        console.log(\"Bokeh: BokehJS is being loaded, scheduling callback at\", now());\n",
       "        return null;\n",
       "      }\n",
       "      if (js_urls == null || js_urls.length === 0) {\n",
       "        run_callbacks();\n",
       "        return null;\n",
       "      }\n",
       "      console.log(\"Bokeh: BokehJS not loaded, scheduling load and callback at\", now());\n",
       "      window._bokeh_is_loading = js_urls.length;\n",
       "      for (var i = 0; i < js_urls.length; i++) {\n",
       "        var url = js_urls[i];\n",
       "        var s = document.createElement('script');\n",
       "        s.src = url;\n",
       "        s.async = false;\n",
       "        s.onreadystatechange = s.onload = function() {\n",
       "          window._bokeh_is_loading--;\n",
       "          if (window._bokeh_is_loading === 0) {\n",
       "            console.log(\"Bokeh: all BokehJS libraries loaded\");\n",
       "            run_callbacks()\n",
       "          }\n",
       "        };\n",
       "        s.onerror = function() {\n",
       "          console.warn(\"failed to load library \" + url);\n",
       "        };\n",
       "        console.log(\"Bokeh: injecting script tag for BokehJS library: \", url);\n",
       "        document.getElementsByTagName(\"head\")[0].appendChild(s);\n",
       "      }\n",
       "    };var element = document.getElementById(\"0deddcc6-01f2-4f95-942c-f9c18de90dea\");\n",
       "    if (element == null) {\n",
       "      console.log(\"Bokeh: ERROR: autoload.js configured with elementid '0deddcc6-01f2-4f95-942c-f9c18de90dea' but no matching script tag was found. \")\n",
       "      return false;\n",
       "    }\n",
       "  \n",
       "    var js_urls = [];\n",
       "  \n",
       "    var inline_js = [\n",
       "      function(Bokeh) {\n",
       "        (function() {\n",
       "          var fn = function() {\n",
       "            var docs_json = {\"27d16217-3b39-42d2-8f21-d1882cbc733d\":{\"roots\":{\"references\":[{\"attributes\":{\"plot\":{\"id\":\"ec65421e-e459-4951-baca-e52a2394190c\",\"subtype\":\"Figure\",\"type\":\"Plot\"}},\"id\":\"03602d95-934a-4377-8c4e-723744d9a07d\",\"type\":\"SaveTool\"},{\"attributes\":{\"callback\":null},\"id\":\"f066e48c-3590-4ffe-a9f2-7efc89938c88\",\"type\":\"DataRange1d\"},{\"attributes\":{\"fill_color\":{\"value\":\"#1f77b4\"},\"line_color\":{\"value\":\"#1f77b4\"},\"size\":{\"units\":\"screen\",\"value\":8},\"x\":{\"field\":\"x1\"},\"y\":{\"field\":\"x2\"}},\"id\":\"6a91eccb-1bf0-4fef-8464-36477c05eb20\",\"type\":\"Circle\"},{\"attributes\":{\"plot\":{\"id\":\"ec65421e-e459-4951-baca-e52a2394190c\",\"subtype\":\"Figure\",\"type\":\"Plot\"},\"source\":{\"id\":\"7cff104a-d531-4077-b26b-2bdd423506d8\",\"type\":\"ColumnDataSource\"},\"text\":{\"field\":\"names\"},\"text_align\":\"center\",\"text_color\":{\"value\":\"#555555\"},\"text_font_size\":{\"value\":\"8pt\"},\"x\":{\"field\":\"x1\"},\"y\":{\"field\":\"x2\"},\"y_offset\":{\"value\":6}},\"id\":\"e9e9e4ea-4d96-4fd7-a2e8-749af450d438\",\"type\":\"LabelSet\"},{\"attributes\":{\"fill_alpha\":{\"value\":0.1},\"fill_color\":{\"value\":\"#1f77b4\"},\"line_alpha\":{\"value\":0.1},\"line_color\":{\"value\":\"#1f77b4\"},\"size\":{\"units\":\"screen\",\"value\":8},\"x\":{\"field\":\"x1\"},\"y\":{\"field\":\"x2\"}},\"id\":\"9ec44fb3-87b4-465f-abe9-bbca27ed0bc6\",\"type\":\"Circle\"},{\"attributes\":{},\"id\":\"3c561592-b5af-47b6-b311-9115bc4e688b\",\"type\":\"BasicTickFormatter\"},{\"attributes\":{\"below\":[{\"id\":\"b02ff2e2-d4f4-479a-976d-2befa2e890de\",\"type\":\"LinearAxis\"}],\"left\":[{\"id\":\"5d924208-de7c-4a3a-afdb-c2fbf609a3b6\",\"type\":\"LinearAxis\"}],\"renderers\":[{\"id\":\"b02ff2e2-d4f4-479a-976d-2befa2e890de\",\"type\":\"LinearAxis\"},{\"id\":\"b296088a-a4f8-425b-90d0-8a66dc81b10b\",\"type\":\"Grid\"},{\"id\":\"5d924208-de7c-4a3a-afdb-c2fbf609a3b6\",\"type\":\"LinearAxis\"},{\"id\":\"c47716a2-f21c-45dd-86c1-2f22c5c8219a\",\"type\":\"Grid\"},{\"id\":\"323c9655-f201-4b24-9a43-acc1835582d7\",\"type\":\"GlyphRenderer\"},{\"id\":\"e9e9e4ea-4d96-4fd7-a2e8-749af450d438\",\"type\":\"LabelSet\"}],\"title\":{\"id\":\"bdf7c7ee-557b-44cb-a7c1-37b08e0e3989\",\"type\":\"Title\"},\"tool_events\":{\"id\":\"903387e8-cc3e-44f1-a5e2-a3bf794fb0cf\",\"type\":\"ToolEvents\"},\"toolbar\":{\"id\":\"db209937-fbc6-409d-a81d-b0dc8099c12a\",\"type\":\"Toolbar\"},\"toolbar_location\":\"above\",\"x_range\":{\"id\":\"c531f9d2-77f1-4821-aa82-070a2d1d7a48\",\"type\":\"DataRange1d\"},\"y_range\":{\"id\":\"f066e48c-3590-4ffe-a9f2-7efc89938c88\",\"type\":\"DataRange1d\"}},\"id\":\"ec65421e-e459-4951-baca-e52a2394190c\",\"subtype\":\"Figure\",\"type\":\"Plot\"},{\"attributes\":{\"callback\":null,\"column_names\":[\"x1\",\"x2\",\"names\"],\"data\":{\"names\":[\"the\",\"and\",\"to\",\"of\",\"a\",\"that\",\"i\",\"in\",\"it\",\"you\",\"we\",\"is\",\"s\",\"this\",\"so\",\"they\",\"was\",\"for\",\"are\",\"have\",\"but\",\"what\",\"on\",\"with\",\"can\",\"t\",\"about\",\"there\",\"be\",\"as\",\"at\",\"all\",\"not\",\"do\",\"my\",\"one\",\"re\",\"people\",\"like\",\"if\",\"from\",\"now\",\"our\",\"he\",\"an\",\"just\",\"these\",\"or\",\"when\",\"because\",\"very\",\"me\",\"out\",\"by\",\"them\",\"how\",\"know\",\"up\",\"going\",\"had\",\"more\",\"think\",\"who\",\"were\",\"see\",\"your\",\"their\",\"which\",\"would\",\"here\",\"really\",\"get\",\"ve\",\"then\",\"m\",\"world\",\"us\",\"time\",\"some\",\"has\",\"don\",\"actually\",\"into\",\"way\",\"where\",\"will\",\"years\",\"things\",\"other\",\"no\",\"could\",\"go\",\"well\",\"want\",\"been\",\"make\",\"right\",\"she\",\"said\",\"something\",\"those\",\"first\",\"two\",\"than\",\"much\",\"also\",\"look\",\"new\",\"thing\",\"little\",\"got\",\"back\",\"over\",\"most\",\"say\",\"even\",\"his\",\"life\",\"only\",\"work\",\"many\",\"take\",\"need\",\"did\",\"lot\",\"kind\",\"why\",\"good\",\"around\",\"every\",\"different\",\"down\",\"ll\",\"let\",\"her\",\"through\",\"same\",\"being\",\"come\",\"d\",\"day\",\"year\",\"three\",\"use\",\"doing\",\"put\",\"called\",\"any\",\"today\",\"percent\",\"made\",\"after\",\"thank\",\"tell\",\"great\",\"human\",\"find\",\"didn\",\"fact\",\"talk\",\"change\",\"started\",\"another\",\"idea\",\"big\",\"last\",\"own\",\"before\",\"its\",\"never\",\"should\",\"better\",\"give\",\"thought\",\"went\",\"might\",\"important\",\"000\",\"again\",\"able\",\"together\",\"still\",\"problem\",\"off\",\"next\",\"part\",\"course\",\"system\",\"him\",\"does\",\"each\",\"start\",\"show\",\"long\",\"ago\",\"story\",\"came\",\"brain\",\"few\",\"bit\",\"between\",\"used\",\"place\",\"technology\",\"women\",\"too\",\"old\",\"mean\",\"data\",\"water\",\"looking\",\"question\",\"maybe\",\"found\",\"love\",\"doesn\",\"end\",\"example\",\"10\",\"done\",\"point\",\"four\",\"real\",\"wanted\",\"ever\",\"school\",\"understand\",\"sort\",\"live\",\"call\",\"whole\",\"children\",\"always\",\"trying\",\"may\",\"person\",\"away\",\"believe\",\"feel\",\"try\",\"million\",\"working\",\"help\",\"everything\",\"five\",\"country\",\"thinking\",\"second\",\"using\",\"information\",\"money\",\"means\",\"power\",\"took\",\"times\",\"high\",\"space\",\"number\",\"kids\",\"home\",\"become\",\"create\",\"small\",\"design\",\"making\",\"best\",\"left\",\"getting\",\"future\",\"enough\",\"man\",\"quite\",\"city\",\"without\",\"sense\",\"happened\",\"comes\",\"social\",\"probably\",\"less\",\"light\",\"talking\",\"energy\",\"am\",\"building\",\"science\",\"food\",\"body\",\"told\",\"interesting\",\"ask\",\"half\",\"pretty\",\"hard\",\"play\",\"anything\",\"lives\",\"countries\",\"coming\",\"such\",\"family\",\"stuff\",\"dollars\",\"earth\",\"moment\",\"20\",\"imagine\",\"across\",\"side\",\"while\",\"saw\",\"happen\",\"once\",\"okay\",\"build\",\"having\",\"men\",\"later\",\"experience\",\"makes\",\"asked\",\"living\",\"seen\",\"says\",\"room\",\"hand\",\"simple\",\"health\",\"ways\",\"else\",\"case\",\"yet\",\"almost\",\"young\",\"days\",\"nothing\",\"care\",\"bad\",\"happens\",\"goes\",\"move\",\"states\",\"reason\",\"computer\",\"open\",\"learn\",\"africa\",\"process\",\"inside\",\"someone\",\"six\",\"far\",\"mind\",\"project\",\"remember\",\"single\",\"picture\",\"both\",\"whether\",\"problems\",\"saying\",\"community\",\"basically\",\"already\",\"within\",\"looked\",\"myself\",\"billion\",\"often\",\"possible\",\"business\",\"planet\",\"global\",\"everybody\",\"top\",\"sure\",\"public\",\"set\",\"wrong\",\"car\",\"book\",\"keep\",\"yes\",\"answer\",\"oh\",\"hope\",\"sometimes\",\"true\",\"history\",\"war\",\"guy\",\"child\",\"instead\",\"months\",\"ideas\",\"looks\",\"matter\",\"government\",\"amazing\",\"united\",\"since\",\"bring\",\"age\",\"cells\",\"job\",\"heard\",\"until\",\"face\",\"wasn\",\"100\",\"read\",\"control\",\"isn\",\"research\",\"30\",\"words\",\"u\",\"group\",\"under\",\"self\",\"somebody\",\"built\",\"state\",\"woman\",\"turn\",\"friends\",\"beautiful\",\"line\",\"knew\",\"couple\",\"order\",\"form\",\"yeah\",\"internet\",\"middle\",\"music\",\"piece\",\"nature\",\"head\",\"though\",\"stop\",\"everyone\",\"50\",\"places\",\"video\",\"learned\",\"language\",\"run\",\"night\",\"decided\",\"study\",\"word\",\"cancer\",\"taking\",\"works\",\"became\",\"exactly\",\"species\",\"society\",\"completely\",\"education\",\"against\",\"stories\",\"large\",\"share\",\"level\",\"heart\",\"america\",\"model\",\"questions\",\"gets\",\"mother\",\"god\",\"company\",\"turns\",\"ourselves\",\"happening\",\"hear\",\"art\",\"themselves\",\"must\",\"itself\",\"rather\",\"kinds\",\"students\",\"name\",\"hours\",\"disease\",\"front\",\"house\",\"huge\",\"couldn\",\"created\",\"universe\",\"ok\",\"animals\",\"american\",\"environment\",\"worked\",\"minutes\",\"ones\",\"black\",\"perhaps\",\"1\",\"past\",\"third\",\"along\",\"others\",\"finally\",\"sound\",\"early\",\"game\",\"thousands\",\"century\",\"based\",\"least\",\"per\",\"ted\",\"lots\",\"figure\",\"free\",\"guys\",\"particular\",\"happy\",\"news\",\"learning\",\"entire\",\"won\",\"gave\",\"machine\",\"india\",\"during\",\"systems\",\"air\",\"difference\",\"outside\",\"natural\",\"taken\",\"seven\",\"given\",\"changed\",\"leave\",\"cell\",\"15\",\"close\",\"behind\",\"cities\",\"full\",\"scale\",\"difficult\",\"china\",\"takes\",\"companies\",\"yourself\",\"area\",\"reality\",\"seeing\",\"easy\",\"turned\",\"cost\",\"eyes\",\"team\",\"moving\",\"population\",\"culture\",\"york\",\"hands\",\"whatever\",\"began\",\"needs\",\"terms\",\"image\",\"simply\",\"needed\",\"beginning\",\"father\",\"local\",\"realized\",\"media\",\"death\",\"parents\",\"view\",\"walk\",\"white\",\"market\",\"parts\",\"ocean\",\"economic\",\"eight\",\"powerful\",\"known\",\"week\",\"size\",\"felt\",\"humans\",\"certain\",\"spend\",\"longer\",\"phone\",\"wonderful\",\"cannot\",\"grow\",\"common\",\"center\",\"tried\",\"fish\",\"land\",\"oil\",\"political\",\"interested\",\"deal\",\"red\",\"gone\",\"amount\",\"weeks\",\"spent\",\"opportunity\",\"paper\",\"lost\",\"national\",\"quickly\",\"blue\",\"step\",\"poor\",\"green\",\"buy\",\"growth\",\"wouldn\",\"either\",\"patients\",\"sitting\",\"ability\",\"changes\",\"write\",\"challenge\",\"south\",\"low\",\"growing\",\"friend\",\"field\",\"shows\",\"2\",\"born\",\"rest\",\"climate\",\"40\",\"test\",\"street\",\"surface\",\"incredible\",\"average\",\"physical\",\"morning\",\"scientists\",\"program\",\"pay\",\"value\",\"feeling\",\"hundreds\",\"girl\",\"met\",\"behavior\",\"economy\",\"dna\",\"complex\",\"access\",\"risk\",\"animal\",\"structure\",\"feet\",\"attention\",\"areas\",\"anyone\",\"deep\",\"watch\",\"short\",\"absolutely\",\"speak\",\"brought\",\"die\",\"bottom\",\"numbers\",\"audience\",\"stage\",\"realize\",\"law\",\"images\",\"wrote\",\"understanding\",\"knowledge\",\"literally\",\"books\",\"movement\",\"ground\",\"giving\",\"eat\",\"force\",\"seems\",\"alone\",\"telling\",\"starting\",\"hold\",\"nice\",\"forward\",\"sea\",\"developed\",\"individual\",\"kid\",\"millions\",\"support\",\"miles\",\"tools\",\"running\",\"online\",\"result\",\"act\",\"medical\",\"technologies\",\"north\",\"lab\",\"development\",\"blood\",\"fear\",\"nobody\",\"map\",\"personal\",\"issue\",\"voice\",\"material\",\"key\",\"12\",\"recently\",\"theory\",\"cut\",\"cars\",\"sun\",\"fast\",\"changing\",\"playing\",\"clear\",\"especially\",\"soon\",\"girls\",\"patient\",\"choice\",\"fly\",\"creating\",\"normal\",\"discovered\",\"europe\",\"talked\",\"relationship\",\"gives\",\"generation\",\"dark\",\"type\",\"showed\",\"chance\",\"seem\",\"industry\",\"asking\",\"rate\",\"fun\",\"issues\",\"color\",\"designed\",\"hour\",\"university\",\"innovation\",\"several\",\"class\",\"computers\",\"english\",\"tiny\",\"allow\",\"save\",\"focus\",\"digital\",\"solve\",\"developing\",\"network\",\"film\",\"special\",\"wall\",\"situation\",\"baby\",\"solution\",\"reasons\",\"box\",\"knows\",\"meet\",\"dead\",\"stand\",\"begin\",\"haven\",\"impact\",\"anybody\",\"term\",\"beyond\",\"pictures\",\"please\",\"ice\",\"produce\",\"shape\",\"non\",\"resources\",\"robot\",\"cool\",\"groups\",\"likely\",\"stay\",\"available\",\"truth\",\"rights\",\"major\",\"cause\",\"evidence\",\"obviously\",\"writing\",\"experiment\",\"modern\",\"drug\",\"becomes\",\"incredibly\",\"aren\",\"bigger\",\"guess\",\"nine\",\"product\",\"drugs\",\"lived\",\"involved\",\"perfect\",\"google\",\"month\",\"effect\",\"similar\",\"putting\",\"eye\",\"pick\",\"message\",\"quality\",\"violence\",\"web\",\"evolution\",\"security\",\"office\",\"basic\",\"solar\",\"indeed\",\"general\",\"towards\",\"present\",\"drive\",\"send\",\"listen\",\"worth\",\"revolution\",\"explain\",\"hundred\",\"certainly\",\"died\",\"ready\",\"teach\",\"journey\",\"25\",\"hit\",\"walking\",\"led\",\"approach\",\"international\",\"200\",\"scientific\",\"games\",\"60\",\"potential\",\"crazy\",\"communities\",\"chinese\",\"device\",\"source\",\"camera\",\"rules\",\"sex\",\"carbon\",\"sounds\",\"boy\",\"reach\",\"starts\",\"examples\",\"west\",\"3\",\"success\",\"measure\",\"particularly\",\"software\",\"totally\",\"suddenly\",\"action\",\"college\",\"higher\",\"code\",\"eventually\",\"democracy\",\"among\",\"minute\",\"sit\",\"largest\",\"showing\",\"hospital\",\"notice\",\"period\",\"mass\",\"develop\",\"dream\",\"onto\",\"plants\",\"break\",\"add\",\"memory\",\"everywhere\",\"favorite\",\"11\",\"zero\",\"speed\",\"schools\",\"moved\",\"response\",\"wants\",\"extremely\",\"movie\",\"individuals\",\"table\",\"wait\",\"medicine\",\"follow\",\"anyway\",\"trust\",\"plant\",\"biggest\",\"watching\",\"organization\",\"creative\",\"road\",\"choose\",\"worse\",\"lead\",\"results\",\"500\",\"exciting\",\"grew\",\"materials\",\"jobs\",\"plan\",\"east\",\"poverty\",\"positive\",\"safe\",\"strong\",\"fall\",\"essentially\",\"object\",\"door\",\"son\",\"vision\",\"further\",\"happiness\",\"continue\",\"student\",\"doctor\",\"including\",\"named\",\"role\",\"objects\",\"extraordinary\",\"standing\",\"skin\",\"leaders\",\"usually\",\"african\",\"conversation\",\"projects\",\"allowed\",\"models\",\"supposed\",\"faster\",\"interest\",\"families\",\"police\",\"fight\",\"tree\",\"connected\",\"screen\",\"5\",\"cases\",\"goal\",\"somewhere\",\"finding\",\"buildings\",\"shown\"],\"x1\":{\"__ndarray__\":\"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\",\"dtype\":\"float64\",\"shape\":[1000]},\"x2\":{\"__ndarray__\":\"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\",\"dtype\":\"float64\",\"shape\":[1000]}}},\"id\":\"7cff104a-d531-4077-b26b-2bdd423506d8\",\"type\":\"ColumnDataSource\"},{\"attributes\":{\"plot\":null,\"text\":\"word2vec T-SNE for most common words\"},\"id\":\"bdf7c7ee-557b-44cb-a7c1-37b08e0e3989\",\"type\":\"Title\"},{\"attributes\":{\"data_source\":{\"id\":\"7cff104a-d531-4077-b26b-2bdd423506d8\",\"type\":\"ColumnDataSource\"},\"glyph\":{\"id\":\"6a91eccb-1bf0-4fef-8464-36477c05eb20\",\"type\":\"Circle\"},\"hover_glyph\":null,\"muted_glyph\":null,\"nonselection_glyph\":{\"id\":\"9ec44fb3-87b4-465f-abe9-bbca27ed0bc6\",\"type\":\"Circle\"},\"selection_glyph\":null},\"id\":\"323c9655-f201-4b24-9a43-acc1835582d7\",\"type\":\"GlyphRenderer\"},{\"attributes\":{\"callback\":null},\"id\":\"c531f9d2-77f1-4821-aa82-070a2d1d7a48\",\"type\":\"DataRange1d\"},{\"attributes\":{},\"id\":\"903387e8-cc3e-44f1-a5e2-a3bf794fb0cf\",\"type\":\"ToolEvents\"},{\"attributes\":{\"active_drag\":\"auto\",\"active_scroll\":\"auto\",\"active_tap\":\"auto\",\"tools\":[{\"id\":\"5d5e0d50-14bf-499a-afe2-18fd04d3591b\",\"type\":\"PanTool\"},{\"id\":\"10d4595e-e842-4ecf-a7b1-ce7520ccab4e\",\"type\":\"WheelZoomTool\"},{\"id\":\"c2091660-122d-4ebf-831b-0c85e22b2c3c\",\"type\":\"ResetTool\"},{\"id\":\"03602d95-934a-4377-8c4e-723744d9a07d\",\"type\":\"SaveTool\"}]},\"id\":\"db209937-fbc6-409d-a81d-b0dc8099c12a\",\"type\":\"Toolbar\"},{\"attributes\":{},\"id\":\"0a6c4540-3865-4558-bc0d-5b78932f3c83\",\"type\":\"BasicTickFormatter\"},{\"attributes\":{\"formatter\":{\"id\":\"0a6c4540-3865-4558-bc0d-5b78932f3c83\",\"type\":\"BasicTickFormatter\"},\"plot\":{\"id\":\"ec65421e-e459-4951-baca-e52a2394190c\",\"subtype\":\"Figure\",\"type\":\"Plot\"},\"ticker\":{\"id\":\"ac6888dc-4bb6-4055-9bf9-ad11bacc8300\",\"type\":\"BasicTicker\"}},\"id\":\"b02ff2e2-d4f4-479a-976d-2befa2e890de\",\"type\":\"LinearAxis\"},{\"attributes\":{},\"id\":\"ac6888dc-4bb6-4055-9bf9-ad11bacc8300\",\"type\":\"BasicTicker\"},{\"attributes\":{\"plot\":{\"id\":\"ec65421e-e459-4951-baca-e52a2394190c\",\"subtype\":\"Figure\",\"type\":\"Plot\"},\"ticker\":{\"id\":\"ac6888dc-4bb6-4055-9bf9-ad11bacc8300\",\"type\":\"BasicTicker\"}},\"id\":\"b296088a-a4f8-425b-90d0-8a66dc81b10b\",\"type\":\"Grid\"},{\"attributes\":{\"formatter\":{\"id\":\"3c561592-b5af-47b6-b311-9115bc4e688b\",\"type\":\"BasicTickFormatter\"},\"plot\":{\"id\":\"ec65421e-e459-4951-baca-e52a2394190c\",\"subtype\":\"Figure\",\"type\":\"Plot\"},\"ticker\":{\"id\":\"419f84d5-b4fb-419f-bd55-439c9b37484f\",\"type\":\"BasicTicker\"}},\"id\":\"5d924208-de7c-4a3a-afdb-c2fbf609a3b6\",\"type\":\"LinearAxis\"},{\"attributes\":{},\"id\":\"419f84d5-b4fb-419f-bd55-439c9b37484f\",\"type\":\"BasicTicker\"},{\"attributes\":{\"dimension\":1,\"plot\":{\"id\":\"ec65421e-e459-4951-baca-e52a2394190c\",\"subtype\":\"Figure\",\"type\":\"Plot\"},\"ticker\":{\"id\":\"419f84d5-b4fb-419f-bd55-439c9b37484f\",\"type\":\"BasicTicker\"}},\"id\":\"c47716a2-f21c-45dd-86c1-2f22c5c8219a\",\"type\":\"Grid\"},{\"attributes\":{\"plot\":{\"id\":\"ec65421e-e459-4951-baca-e52a2394190c\",\"subtype\":\"Figure\",\"type\":\"Plot\"}},\"id\":\"5d5e0d50-14bf-499a-afe2-18fd04d3591b\",\"type\":\"PanTool\"},{\"attributes\":{\"plot\":{\"id\":\"ec65421e-e459-4951-baca-e52a2394190c\",\"subtype\":\"Figure\",\"type\":\"Plot\"}},\"id\":\"10d4595e-e842-4ecf-a7b1-ce7520ccab4e\",\"type\":\"WheelZoomTool\"},{\"attributes\":{\"plot\":{\"id\":\"ec65421e-e459-4951-baca-e52a2394190c\",\"subtype\":\"Figure\",\"type\":\"Plot\"}},\"id\":\"c2091660-122d-4ebf-831b-0c85e22b2c3c\",\"type\":\"ResetTool\"}],\"root_ids\":[\"ec65421e-e459-4951-baca-e52a2394190c\"]},\"title\":\"Bokeh Application\",\"version\":\"0.12.5\"}};\n",
       "            var render_items = [{\"docid\":\"27d16217-3b39-42d2-8f21-d1882cbc733d\",\"elementid\":\"0deddcc6-01f2-4f95-942c-f9c18de90dea\",\"modelid\":\"ec65421e-e459-4951-baca-e52a2394190c\"}];\n",
       "            \n",
       "            Bokeh.embed.embed_items(docs_json, render_items);\n",
       "          };\n",
       "          if (document.readyState != \"loading\") fn();\n",
       "          else document.addEventListener(\"DOMContentLoaded\", fn);\n",
       "        })();\n",
       "      },\n",
       "      function(Bokeh) {\n",
       "      }\n",
       "    ];\n",
       "  \n",
       "    function run_inline_js() {\n",
       "      \n",
       "      if ((window.Bokeh !== undefined) || (force === true)) {\n",
       "        for (var i = 0; i < inline_js.length; i++) {\n",
       "          inline_js[i](window.Bokeh);\n",
       "        }if (force === true) {\n",
       "          display_loaded();\n",
       "        }} else if (Date.now() < window._bokeh_timeout) {\n",
       "        setTimeout(run_inline_js, 100);\n",
       "      } else if (!window._bokeh_failed_load) {\n",
       "        console.log(\"Bokeh: BokehJS failed to load within specified timeout.\");\n",
       "        window._bokeh_failed_load = true;\n",
       "      } else if (force !== true) {\n",
       "        var cell = $(document.getElementById(\"0deddcc6-01f2-4f95-942c-f9c18de90dea\")).parents('.cell').data().cell;\n",
       "        cell.output_area.append_execute_result(NB_LOAD_WARNING)\n",
       "      }\n",
       "  \n",
       "    }\n",
       "  \n",
       "    if (window._bokeh_is_loading === 0) {\n",
       "      console.log(\"Bokeh: BokehJS loaded, going straight to plotting\");\n",
       "      run_inline_js();\n",
       "    } else {\n",
       "      load_libs(js_urls, function() {\n",
       "        console.log(\"Bokeh: BokehJS plotting callback run at\", now());\n",
       "        run_inline_js();\n",
       "      });\n",
       "    }\n",
       "  }(this));\n",
       "</script>"
      ]
     },
     "metadata": {},
     "output_type": "display_data"
    }
   ],
   "source": [
    "p = figure(tools=\"pan,wheel_zoom,reset,save\",\n",
    "           toolbar_location=\"above\",\n",
    "           title=\"word2vec T-SNE for most common words\")\n",
    "\n",
    "source = ColumnDataSource(data=dict(x1=words_top_ted_tsne[:,0],\n",
    "                                    x2=words_top_ted_tsne[:,1],\n",
    "                                    names=words_top_ted))\n",
    "\n",
    "p.scatter(x=\"x1\", y=\"x2\", size=8, source=source)\n",
    "\n",
    "labels = LabelSet(x=\"x1\", y=\"x2\", text=\"names\", y_offset=6,\n",
    "                  text_font_size=\"8pt\", text_color=\"#555555\",\n",
    "                  source=source, text_align='center')\n",
    "p.add_layout(labels)\n",
    "\n",
    "show(p)"
   ]
  },
  {
   "cell_type": "markdown",
   "metadata": {},
   "source": [
    "### Part 5: Wiki Learnt Representations"
   ]
  },
  {
   "cell_type": "markdown",
   "metadata": {},
   "source": [
    "Download dataset"
   ]
  },
  {
   "cell_type": "code",
   "execution_count": 35,
   "metadata": {
    "collapsed": true
   },
   "outputs": [],
   "source": [
    "if not os.path.isfile('wikitext-103-raw-v1.zip'):\n",
    "    urllib.request.urlretrieve(\"https://s3.amazonaws.com/research.metamind.io/wikitext/wikitext-103-raw-v1.zip\", filename=\"wikitext-103-raw-v1.zip\")"
   ]
  },
  {
   "cell_type": "code",
   "execution_count": 36,
   "metadata": {
    "collapsed": true
   },
   "outputs": [],
   "source": [
    "with zipfile.ZipFile('wikitext-103-raw-v1.zip', 'r') as z:\n",
    "    input_text = str(z.open('wikitext-103-raw/wiki.train.raw', 'r').read(), encoding='utf-8') # Thanks Robert Bastian"
   ]
  },
  {
   "cell_type": "markdown",
   "metadata": {},
   "source": [
    "Preprocess sentences (note that it's important to remove small sentences for performance)"
   ]
  },
  {
   "cell_type": "code",
   "execution_count": 37,
   "metadata": {
    "collapsed": true
   },
   "outputs": [],
   "source": [
    "sentences_wiki = []\n",
    "for line in input_text.split('\\n'):\n",
    "    s = [x for x in line.split('.') if x and len(x.split()) >= 5]\n",
    "    sentences_wiki.extend(s)\n",
    "    \n",
    "for s_i in range(len(sentences_wiki)):\n",
    "    sentences_wiki[s_i] = re.sub(\"[^a-z]\", \" \", sentences_wiki[s_i].lower())\n",
    "    sentences_wiki[s_i] = re.sub(r'\\([^)]*\\)', '', sentences_wiki[s_i])\n",
    "del input_text"
   ]
  },
  {
   "cell_type": "code",
   "execution_count": 45,
   "metadata": {},
   "outputs": [
    {
     "name": "stdout",
     "output_type": "stream",
     "text": [
      "170684\n",
      "34136\n",
      "['here', 'are', 'two', 'reasons', 'companies', 'fail', 'they', 'only', 'do', 'more', 'of', 'the', 'same', 'or', 'they', 'only', 'do', 'what', 's', 'new']\n"
     ]
    }
   ],
   "source": [
    "# sample 1/5 of the data\n",
    "shuffle(sentences_wiki)\n",
    "print(len(sentences_wiki))\n",
    "sentences_wiki = sentences_wiki[:int(len(sentences_wiki)/5)]\n",
    "print(len(sentences_wiki))\n",
    "\n",
    "print(sentences_ted[0])"
   ]
  },
  {
   "cell_type": "markdown",
   "metadata": {},
   "source": [
    "Now, repeat all the same steps that you performed above. You should be able to reuse essentially all the code."
   ]
  },
  {
   "cell_type": "code",
   "execution_count": 46,
   "metadata": {},
   "outputs": [
    {
     "name": "stdout",
     "output_type": "stream",
     "text": [
      "['the', 'operations', 'were', 'executed', 'exactly', 'according', 'to', 'orders']\n",
      "['through', 'this', 'promotion', 'a', 'large', 'number', 'of', 'artists', 'in', 'the', 'final', 'track', 'list', 'were', 'revealed']\n",
      "['tikhonov', 'forecast', 'estimated', 'growth', 'of', 'percent', 'growth', 'in', 'soviet', 'national', 'income', 'an', 'increase', 'of', 'percent', 'in', 'industrial', 'growth', 'and', 'doubling', 'soviet', 'agriculture', 'output', 'by']\n"
     ]
    }
   ],
   "source": [
    "print(sentences_wiki[0])\n",
    "print(sentences_wiki[1])\n",
    "print(sentences_wiki[2])"
   ]
  },
  {
   "cell_type": "markdown",
   "metadata": {},
   "source": [
    "### Word frequences"
   ]
  },
  {
   "cell_type": "code",
   "execution_count": 47,
   "metadata": {
    "collapsed": true
   },
   "outputs": [],
   "source": [
    "words_top_wiki, counts_wiki_top1000 = zip(*Counter(chain.from_iterable(sentences_wiki)).most_common(1000))"
   ]
  },
  {
   "cell_type": "code",
   "execution_count": 48,
   "metadata": {},
   "outputs": [
    {
     "name": "stdout",
     "output_type": "stream",
     "text": [
      "('the', 'of', 'and', 'in', 'to', 'a', 'was', 's', 'on', 'as') (51799, 21684, 20218, 17502, 15718, 14427, 8754, 6747, 6176, 5976)\n"
     ]
    }
   ],
   "source": [
    "print (words_top_wiki[:10], counts_wiki_top1000[:10])"
   ]
  },
  {
   "cell_type": "code",
   "execution_count": 49,
   "metadata": {},
   "outputs": [
    {
     "data": {
      "text/html": [
       "\n",
       "\n",
       "    <div class=\"bk-root\">\n",
       "        <div class=\"bk-plotdiv\" id=\"2d32d031-9e83-4ef1-80f1-0c14a38855a0\"></div>\n",
       "    </div>\n",
       "<script type=\"text/javascript\">\n",
       "  \n",
       "  (function(global) {\n",
       "    function now() {\n",
       "      return new Date();\n",
       "    }\n",
       "  \n",
       "    var force = false;\n",
       "  \n",
       "    if (typeof (window._bokeh_onload_callbacks) === \"undefined\" || force === true) {\n",
       "      window._bokeh_onload_callbacks = [];\n",
       "      window._bokeh_is_loading = undefined;\n",
       "    }\n",
       "  \n",
       "  \n",
       "    \n",
       "    if (typeof (window._bokeh_timeout) === \"undefined\" || force === true) {\n",
       "      window._bokeh_timeout = Date.now() + 0;\n",
       "      window._bokeh_failed_load = false;\n",
       "    }\n",
       "  \n",
       "    var NB_LOAD_WARNING = {'data': {'text/html':\n",
       "       \"<div style='background-color: #fdd'>\\n\"+\n",
       "       \"<p>\\n\"+\n",
       "       \"BokehJS does not appear to have successfully loaded. If loading BokehJS from CDN, this \\n\"+\n",
       "       \"may be due to a slow or bad network connection. Possible fixes:\\n\"+\n",
       "       \"</p>\\n\"+\n",
       "       \"<ul>\\n\"+\n",
       "       \"<li>re-rerun `output_notebook()` to attempt to load from CDN again, or</li>\\n\"+\n",
       "       \"<li>use INLINE resources instead, as so:</li>\\n\"+\n",
       "       \"</ul>\\n\"+\n",
       "       \"<code>\\n\"+\n",
       "       \"from bokeh.resources import INLINE\\n\"+\n",
       "       \"output_notebook(resources=INLINE)\\n\"+\n",
       "       \"</code>\\n\"+\n",
       "       \"</div>\"}};\n",
       "  \n",
       "    function display_loaded() {\n",
       "      if (window.Bokeh !== undefined) {\n",
       "        var el = document.getElementById(\"2d32d031-9e83-4ef1-80f1-0c14a38855a0\");\n",
       "        el.textContent = \"BokehJS \" + Bokeh.version + \" successfully loaded.\";\n",
       "      } else if (Date.now() < window._bokeh_timeout) {\n",
       "        setTimeout(display_loaded, 100)\n",
       "      }\n",
       "    }\n",
       "  \n",
       "    function run_callbacks() {\n",
       "      window._bokeh_onload_callbacks.forEach(function(callback) { callback() });\n",
       "      delete window._bokeh_onload_callbacks\n",
       "      console.info(\"Bokeh: all callbacks have finished\");\n",
       "    }\n",
       "  \n",
       "    function load_libs(js_urls, callback) {\n",
       "      window._bokeh_onload_callbacks.push(callback);\n",
       "      if (window._bokeh_is_loading > 0) {\n",
       "        console.log(\"Bokeh: BokehJS is being loaded, scheduling callback at\", now());\n",
       "        return null;\n",
       "      }\n",
       "      if (js_urls == null || js_urls.length === 0) {\n",
       "        run_callbacks();\n",
       "        return null;\n",
       "      }\n",
       "      console.log(\"Bokeh: BokehJS not loaded, scheduling load and callback at\", now());\n",
       "      window._bokeh_is_loading = js_urls.length;\n",
       "      for (var i = 0; i < js_urls.length; i++) {\n",
       "        var url = js_urls[i];\n",
       "        var s = document.createElement('script');\n",
       "        s.src = url;\n",
       "        s.async = false;\n",
       "        s.onreadystatechange = s.onload = function() {\n",
       "          window._bokeh_is_loading--;\n",
       "          if (window._bokeh_is_loading === 0) {\n",
       "            console.log(\"Bokeh: all BokehJS libraries loaded\");\n",
       "            run_callbacks()\n",
       "          }\n",
       "        };\n",
       "        s.onerror = function() {\n",
       "          console.warn(\"failed to load library \" + url);\n",
       "        };\n",
       "        console.log(\"Bokeh: injecting script tag for BokehJS library: \", url);\n",
       "        document.getElementsByTagName(\"head\")[0].appendChild(s);\n",
       "      }\n",
       "    };var element = document.getElementById(\"2d32d031-9e83-4ef1-80f1-0c14a38855a0\");\n",
       "    if (element == null) {\n",
       "      console.log(\"Bokeh: ERROR: autoload.js configured with elementid '2d32d031-9e83-4ef1-80f1-0c14a38855a0' but no matching script tag was found. \")\n",
       "      return false;\n",
       "    }\n",
       "  \n",
       "    var js_urls = [];\n",
       "  \n",
       "    var inline_js = [\n",
       "      function(Bokeh) {\n",
       "        (function() {\n",
       "          var fn = function() {\n",
       "            var docs_json = {\"caf8d638-ef9b-4e66-b859-329315ca6b22\":{\"roots\":{\"references\":[{\"attributes\":{\"callback\":null,\"column_names\":[\"left\",\"right\",\"top\"],\"data\":{\"left\":{\"__ndarray__\":\"AAAAAABAU0D2KFyPwpGCQPYoXI/CXZFAcT0K16NymUD2KFyPwsOgQDQzMzMzzqRAcT0K16PYqECuR+F6FOOsQPYoXI/CdrBAFa5H4fp7skA0MzMzM4G0QFK4HoVrhrZAcT0K16OLuECQwvUo3JC6QK5H4XoUlrxAzczMzEybvkD2KFyPQlDAQIXrUbjeUsFAFa5H4XpVwkCkcD0KF1jDQDQzMzOzWsRAw/UoXE9dxUBSuB6F61/GQOJ6FK6HYsdAcT0K1yNlyEAAAAAAwGfJQJDC9ShcaspAH4XrUfhsy0CuR+F6lG/MQD4K16Mwcs1AzczMzMx0zkBdj8L1aHfPQPYoXI8CPdBAPgrXo1C+0ECF61G4nj/RQM3MzMzswNFAFa5H4TpC0kBcj8L1iMPSQKRwPQrXRNNA7FG4HiXG00A0MzMzc0fUQHsUrkfByNRAw/UoXA9K1UAL16NwXcvVQFK4HoWrTNZAmpmZmfnN1kDiehSuR0/XQClcj8KV0NdAcT0K1+NR2EC5HoXrMdPYQAAAAACAVNlASOF6FM7V2UCQwvUoHFfaQNejcD1q2NpAH4XrUbhZ20BnZmZmBtvbQK5H4XpUXNxA9ihcj6Ld3EA+Ctej8F7dQIbrUbg+4N1AzczMzIxh3kAVrkfh2uLeQF2PwvUoZN9ApHA9Cnfl30D2KFyPYjPgQJqZmZkJdOBAPgrXo7C04EDiehSuV/XgQIXrUbj+NeFAKVyPwqV24UDNzMzMTLfhQHE9Ctfz9+FAFa5H4Zo44kC5HoXrQXniQFyPwvXoueJAAAAAAJD64kCkcD0KNzvjQEjhehTee+NA7FG4HoW840CQwvUoLP3jQDQzMzPTPeRA16NwPXp+5EB7FK5HIb/kQB+F61HI/+RAw/UoXG9A5UBnZmZmFoHlQAvXo3C9weVArkfhemQC5kBSuB6FC0PmQPYoXI+yg+ZAmpmZmVnE5kA+CtejAAXnQOJ6FK6nRedAhetRuE6G50ApXI/C9cbnQM3MzMycB+hAcT0K10NI6EAVrkfh6ojoQLkeheuRyehAXY/C9TgK6UA=\",\"dtype\":\"float64\",\"shape\":[100]},\"right\":{\"__ndarray__\":\"9ihcj8KRgkD2KFyPwl2RQHE9CtejcplA9ihcj8LDoEA0MzMzM86kQHE9Ctej2KhArkfhehTjrED2KFyPwnawQBWuR+H6e7JANDMzMzOBtEBSuB6Fa4a2QHE9Cteji7hAkML1KNyQukCuR+F6FJa8QM3MzMxMm75A9ihcj0JQwECF61G43lLBQBWuR+F6VcJApHA9ChdYw0A0MzMzs1rEQMP1KFxPXcVAUrgehetfxkDiehSuh2LHQHE9CtcjZchAAAAAAMBnyUCQwvUoXGrKQB+F61H4bMtArkfhepRvzEA+CtejMHLNQM3MzMzMdM5AXY/C9Wh3z0D2KFyPAj3QQD4K16NQvtBAhetRuJ4/0UDNzMzM7MDRQBWuR+E6QtJAXI/C9YjD0kCkcD0K10TTQOxRuB4lxtNANDMzM3NH1EB7FK5HwcjUQMP1KFwPStVAC9ejcF3L1UBSuB6Fq0zWQJqZmZn5zdZA4noUrkdP10ApXI/CldDXQHE9CtfjUdhAuR6F6zHT2EAAAAAAgFTZQEjhehTO1dlAkML1KBxX2kDXo3A9atjaQB+F61G4WdtAZ2ZmZgbb20CuR+F6VFzcQPYoXI+i3dxAPgrXo/Be3UCG61G4PuDdQM3MzMyMYd5AFa5H4dri3kBdj8L1KGTfQKRwPQp35d9A9ihcj2Iz4ECamZmZCXTgQD4K16OwtOBA4noUrlf14ECF61G4/jXhQClcj8KlduFAzczMzEy34UBxPQrX8/fhQBWuR+GaOOJAuR6F60F54kBcj8L16LniQAAAAACQ+uJApHA9Cjc740BI4XoU3nvjQOxRuB6FvONAkML1KCz940A0MzMz0z3kQNejcD16fuRAexSuRyG/5EAfhetRyP/kQMP1KFxvQOVAZ2ZmZhaB5UAL16NwvcHlQK5H4XpkAuZAUrgehQtD5kD2KFyPsoPmQJqZmZlZxOZAPgrXowAF50DiehSup0XnQIXrUbhOhudAKVyPwvXG50DNzMzMnAfoQHE9CtdDSOhAFa5H4eqI6EC5HoXrkcnoQF2PwvU4CulAAAAAAOBK6UA=\",\"dtype\":\"float64\",\"shape\":[100]},\"top\":{\"__ndarray__\":\"PplEv3ccXT99+/5R+D4SP4TtN794OwE/i99wLPk34D5OT6nC9VPYPo3fcCz5N8A+jd9wLPk30D6J33As+TfgPgAAAAAAAAAAid9wLPk30D6R33As+TfQPonfcCz5N9A+id9wLPk3wD4AAAAAAAAAAAAAAAAAAAAAAAAAAAAAAACR33As+TfAPgAAAAAAAAAAAAAAAAAAAAAAAAAAAAAAAAAAAAAAAAAAAAAAAAAAAAAAAAAAAAAAAAAAAAAAAAAAAAAAAAAAAAAAAAAAAAAAAAAAAAAAAAAAkd9wLPk3wD4AAAAAAAAAAAAAAAAAAAAAgd9wLPk3wD4AAAAAAAAAAAAAAAAAAAAAod9wLPk3wD4AAAAAAAAAAAAAAAAAAAAAAAAAAAAAAAAAAAAAAAAAAIHfcCz5N8A+AAAAAAAAAAAAAAAAAAAAAIHfcCz5N8A+AAAAAAAAAAAAAAAAAAAAAAAAAAAAAAAAAAAAAAAAAAAAAAAAAAAAAAAAAAAAAAAAAAAAAAAAAAAAAAAAAAAAAAAAAAAAAAAAAAAAAAAAAAAAAAAAAAAAAAAAAAAAAAAAAAAAAAAAAAAAAAAAAAAAAAAAAAAAAAAAAAAAAAAAAAAAAAAAAAAAAAAAAAAAAAAAAAAAAAAAAAAAAAAAAAAAAAAAAAAAAAAAAAAAAAAAAAAAAAAAAAAAAAAAAAAAAAAAAAAAAAAAAAAAAAAAAAAAAAAAAAAAAAAAAAAAAAAAAAAAAAAAAAAAAAAAAAAAAAAAAAAAAAAAAAAAAAAAAAAAAAAAAAAAAAAAAAAAAAAAAAAAAAAAAAAAAAAAAAAAAAAAAAAAAAAAAAAAAAAAAAAAAAAAAAAAAAAAAAAAAAAAAAAAAAAAAAAAAAAAAAAAAAAAAAAAAAAAAAAAAAAAAAAAAAAAAAAAAAAAAAAAAAAAAAAAAAAAAAAAAAAAAAAAAAAAAAAAAAAAAAAAAAAAAAAAAAAAAAAAAAAAAAAAAAAAAAAAAAAAAAAAAAAAAAAAAAAAAAAAAAAAAAAAAAAAAAAAAAAAAAAAAAAAwt9wLPk3wD4=\",\"dtype\":\"float64\",\"shape\":[100]}}},\"id\":\"6ba76e39-d80b-497a-909b-e5e54af46464\",\"type\":\"ColumnDataSource\"},{\"attributes\":{\"below\":[{\"id\":\"4504aaad-f82d-4df3-abb5-3f87c0c1d325\",\"type\":\"LinearAxis\"}],\"left\":[{\"id\":\"29db9906-cc49-4a0e-9099-1d039d5675ff\",\"type\":\"LinearAxis\"}],\"renderers\":[{\"id\":\"4504aaad-f82d-4df3-abb5-3f87c0c1d325\",\"type\":\"LinearAxis\"},{\"id\":\"fbf200e1-a542-4af1-8e0b-5c095c43c5d7\",\"type\":\"Grid\"},{\"id\":\"29db9906-cc49-4a0e-9099-1d039d5675ff\",\"type\":\"LinearAxis\"},{\"id\":\"6cb248db-0715-4a46-8f70-85520f22f7ab\",\"type\":\"Grid\"},{\"id\":\"f8f6b8d9-2d03-4c7c-ab84-8fe2183464fb\",\"type\":\"GlyphRenderer\"}],\"title\":{\"id\":\"1b2ec591-4e74-4831-9012-204a104e3ee7\",\"type\":\"Title\"},\"tool_events\":{\"id\":\"6719dfae-5d11-42cf-929e-b96e8b5807a1\",\"type\":\"ToolEvents\"},\"toolbar\":{\"id\":\"653b20bb-1013-4756-8f11-361befe6fa39\",\"type\":\"Toolbar\"},\"toolbar_location\":\"above\",\"x_range\":{\"id\":\"9742267a-b0a4-4bcf-879c-8ccc38371094\",\"type\":\"DataRange1d\"},\"y_range\":{\"id\":\"d59fa983-d56c-4c5d-958c-b8d29cafcdfd\",\"type\":\"DataRange1d\"}},\"id\":\"3176cce9-3a26-438c-bf82-b58869f96e83\",\"subtype\":\"Figure\",\"type\":\"Plot\"},{\"attributes\":{},\"id\":\"a7db261a-fd95-4b44-93e2-c5c26bcd62f4\",\"type\":\"BasicTickFormatter\"},{\"attributes\":{\"active_drag\":\"auto\",\"active_scroll\":\"auto\",\"active_tap\":\"auto\",\"tools\":[{\"id\":\"3aa0d0fd-6158-42c5-8d91-cfee134b5c8d\",\"type\":\"PanTool\"},{\"id\":\"2073fc94-1508-4713-b63b-647232afdcf7\",\"type\":\"WheelZoomTool\"},{\"id\":\"ce06b1b9-901d-44de-be1c-38aa15921354\",\"type\":\"ResetTool\"},{\"id\":\"83108d80-8eee-43ea-a922-1d4fe2d6d585\",\"type\":\"SaveTool\"}]},\"id\":\"653b20bb-1013-4756-8f11-361befe6fa39\",\"type\":\"Toolbar\"},{\"attributes\":{\"formatter\":{\"id\":\"a7db261a-fd95-4b44-93e2-c5c26bcd62f4\",\"type\":\"BasicTickFormatter\"},\"plot\":{\"id\":\"3176cce9-3a26-438c-bf82-b58869f96e83\",\"subtype\":\"Figure\",\"type\":\"Plot\"},\"ticker\":{\"id\":\"4eccaa23-30bd-43cd-9e8c-2bbcc91c61c8\",\"type\":\"BasicTicker\"}},\"id\":\"4504aaad-f82d-4df3-abb5-3f87c0c1d325\",\"type\":\"LinearAxis\"},{\"attributes\":{\"data_source\":{\"id\":\"6ba76e39-d80b-497a-909b-e5e54af46464\",\"type\":\"ColumnDataSource\"},\"glyph\":{\"id\":\"30fdb999-fa9a-44b8-a316-de4068f1d24e\",\"type\":\"Quad\"},\"hover_glyph\":null,\"muted_glyph\":null,\"nonselection_glyph\":{\"id\":\"76a8b026-a292-45ea-910d-f77eb847e972\",\"type\":\"Quad\"},\"selection_glyph\":null},\"id\":\"f8f6b8d9-2d03-4c7c-ab84-8fe2183464fb\",\"type\":\"GlyphRenderer\"},{\"attributes\":{\"plot\":null,\"text\":\"Top-1000 words distribution\"},\"id\":\"1b2ec591-4e74-4831-9012-204a104e3ee7\",\"type\":\"Title\"},{\"attributes\":{\"callback\":null},\"id\":\"9742267a-b0a4-4bcf-879c-8ccc38371094\",\"type\":\"DataRange1d\"},{\"attributes\":{\"bottom\":{\"value\":0},\"fill_color\":{\"value\":\"#1f77b4\"},\"left\":{\"field\":\"left\"},\"line_color\":{\"value\":\"#555555\"},\"right\":{\"field\":\"right\"},\"top\":{\"field\":\"top\"}},\"id\":\"30fdb999-fa9a-44b8-a316-de4068f1d24e\",\"type\":\"Quad\"},{\"attributes\":{},\"id\":\"78680597-0f63-42dd-b6ca-a5df6a81ca03\",\"type\":\"BasicTicker\"},{\"attributes\":{},\"id\":\"4eccaa23-30bd-43cd-9e8c-2bbcc91c61c8\",\"type\":\"BasicTicker\"},{\"attributes\":{\"dimension\":1,\"plot\":{\"id\":\"3176cce9-3a26-438c-bf82-b58869f96e83\",\"subtype\":\"Figure\",\"type\":\"Plot\"},\"ticker\":{\"id\":\"78680597-0f63-42dd-b6ca-a5df6a81ca03\",\"type\":\"BasicTicker\"}},\"id\":\"6cb248db-0715-4a46-8f70-85520f22f7ab\",\"type\":\"Grid\"},{\"attributes\":{\"plot\":{\"id\":\"3176cce9-3a26-438c-bf82-b58869f96e83\",\"subtype\":\"Figure\",\"type\":\"Plot\"},\"ticker\":{\"id\":\"4eccaa23-30bd-43cd-9e8c-2bbcc91c61c8\",\"type\":\"BasicTicker\"}},\"id\":\"fbf200e1-a542-4af1-8e0b-5c095c43c5d7\",\"type\":\"Grid\"},{\"attributes\":{\"formatter\":{\"id\":\"8e0bd472-f92a-4a8d-abbd-2d69207d06b7\",\"type\":\"BasicTickFormatter\"},\"plot\":{\"id\":\"3176cce9-3a26-438c-bf82-b58869f96e83\",\"subtype\":\"Figure\",\"type\":\"Plot\"},\"ticker\":{\"id\":\"78680597-0f63-42dd-b6ca-a5df6a81ca03\",\"type\":\"BasicTicker\"}},\"id\":\"29db9906-cc49-4a0e-9099-1d039d5675ff\",\"type\":\"LinearAxis\"},{\"attributes\":{\"bottom\":{\"value\":0},\"fill_alpha\":{\"value\":0.1},\"fill_color\":{\"value\":\"#1f77b4\"},\"left\":{\"field\":\"left\"},\"line_alpha\":{\"value\":0.1},\"line_color\":{\"value\":\"#1f77b4\"},\"right\":{\"field\":\"right\"},\"top\":{\"field\":\"top\"}},\"id\":\"76a8b026-a292-45ea-910d-f77eb847e972\",\"type\":\"Quad\"},{\"attributes\":{},\"id\":\"8e0bd472-f92a-4a8d-abbd-2d69207d06b7\",\"type\":\"BasicTickFormatter\"},{\"attributes\":{\"plot\":{\"id\":\"3176cce9-3a26-438c-bf82-b58869f96e83\",\"subtype\":\"Figure\",\"type\":\"Plot\"}},\"id\":\"3aa0d0fd-6158-42c5-8d91-cfee134b5c8d\",\"type\":\"PanTool\"},{\"attributes\":{\"plot\":{\"id\":\"3176cce9-3a26-438c-bf82-b58869f96e83\",\"subtype\":\"Figure\",\"type\":\"Plot\"}},\"id\":\"83108d80-8eee-43ea-a922-1d4fe2d6d585\",\"type\":\"SaveTool\"},{\"attributes\":{\"plot\":{\"id\":\"3176cce9-3a26-438c-bf82-b58869f96e83\",\"subtype\":\"Figure\",\"type\":\"Plot\"}},\"id\":\"2073fc94-1508-4713-b63b-647232afdcf7\",\"type\":\"WheelZoomTool\"},{\"attributes\":{\"plot\":{\"id\":\"3176cce9-3a26-438c-bf82-b58869f96e83\",\"subtype\":\"Figure\",\"type\":\"Plot\"}},\"id\":\"ce06b1b9-901d-44de-be1c-38aa15921354\",\"type\":\"ResetTool\"},{\"attributes\":{},\"id\":\"6719dfae-5d11-42cf-929e-b96e8b5807a1\",\"type\":\"ToolEvents\"},{\"attributes\":{\"callback\":null},\"id\":\"d59fa983-d56c-4c5d-958c-b8d29cafcdfd\",\"type\":\"DataRange1d\"}],\"root_ids\":[\"3176cce9-3a26-438c-bf82-b58869f96e83\"]},\"title\":\"Bokeh Application\",\"version\":\"0.12.5\"}};\n",
       "            var render_items = [{\"docid\":\"caf8d638-ef9b-4e66-b859-329315ca6b22\",\"elementid\":\"2d32d031-9e83-4ef1-80f1-0c14a38855a0\",\"modelid\":\"3176cce9-3a26-438c-bf82-b58869f96e83\"}];\n",
       "            \n",
       "            Bokeh.embed.embed_items(docs_json, render_items);\n",
       "          };\n",
       "          if (document.readyState != \"loading\") fn();\n",
       "          else document.addEventListener(\"DOMContentLoaded\", fn);\n",
       "        })();\n",
       "      },\n",
       "      function(Bokeh) {\n",
       "      }\n",
       "    ];\n",
       "  \n",
       "    function run_inline_js() {\n",
       "      \n",
       "      if ((window.Bokeh !== undefined) || (force === true)) {\n",
       "        for (var i = 0; i < inline_js.length; i++) {\n",
       "          inline_js[i](window.Bokeh);\n",
       "        }if (force === true) {\n",
       "          display_loaded();\n",
       "        }} else if (Date.now() < window._bokeh_timeout) {\n",
       "        setTimeout(run_inline_js, 100);\n",
       "      } else if (!window._bokeh_failed_load) {\n",
       "        console.log(\"Bokeh: BokehJS failed to load within specified timeout.\");\n",
       "        window._bokeh_failed_load = true;\n",
       "      } else if (force !== true) {\n",
       "        var cell = $(document.getElementById(\"2d32d031-9e83-4ef1-80f1-0c14a38855a0\")).parents('.cell').data().cell;\n",
       "        cell.output_area.append_execute_result(NB_LOAD_WARNING)\n",
       "      }\n",
       "  \n",
       "    }\n",
       "  \n",
       "    if (window._bokeh_is_loading === 0) {\n",
       "      console.log(\"Bokeh: BokehJS loaded, going straight to plotting\");\n",
       "      run_inline_js();\n",
       "    } else {\n",
       "      load_libs(js_urls, function() {\n",
       "        console.log(\"Bokeh: BokehJS plotting callback run at\", now());\n",
       "        run_inline_js();\n",
       "      });\n",
       "    }\n",
       "  }(this));\n",
       "</script>"
      ]
     },
     "metadata": {},
     "output_type": "display_data"
    }
   ],
   "source": [
    "hist, edges = np.histogram(counts_wiki_top1000, density=True, bins=100, normed=True)\n",
    "\n",
    "p = figure(tools=\"pan,wheel_zoom,reset,save\",\n",
    "           toolbar_location=\"above\",\n",
    "           title=\"Top-1000 words distribution\")\n",
    "p.quad(top=hist, bottom=0, left=edges[:-1], right=edges[1:], line_color=\"#555555\")\n",
    "show(p)"
   ]
  },
  {
   "cell_type": "markdown",
   "metadata": {},
   "source": [
    "### Word2Vec"
   ]
  },
  {
   "cell_type": "code",
   "execution_count": 50,
   "metadata": {
    "collapsed": true
   },
   "outputs": [],
   "source": [
    "model_wiki = Word2Vec(min_count=10, sentences = sentences_wiki)"
   ]
  },
  {
   "cell_type": "markdown",
   "metadata": {},
   "source": [
    "P.4 Learnt Representation"
   ]
  },
  {
   "cell_type": "code",
   "execution_count": 51,
   "metadata": {},
   "outputs": [
    {
     "data": {
      "text/plain": [
       "[('character', 0.979004979133606),\n",
       " ('reason', 0.9539679288864136),\n",
       " ('noted', 0.942439615726471),\n",
       " ('story', 0.9420667290687561),\n",
       " ('saying', 0.9408965706825256),\n",
       " ('show', 0.9386721849441528),\n",
       " ('writing', 0.9363712668418884),\n",
       " ('case', 0.9347497224807739),\n",
       " ('job', 0.9328858852386475),\n",
       " ('kind', 0.9319300651550293)]"
      ]
     },
     "execution_count": 51,
     "metadata": {},
     "output_type": "execute_result"
    }
   ],
   "source": [
    "model_wiki.most_similar('man')"
   ]
  },
  {
   "cell_type": "code",
   "execution_count": 52,
   "metadata": {},
   "outputs": [
    {
     "data": {
      "text/plain": [
       "[('missions', 0.9948466420173645),\n",
       " ('garage', 0.9940930604934692),\n",
       " ('receives', 0.993858814239502),\n",
       " ('awareness', 0.9937096834182739),\n",
       " ('mythology', 0.993582010269165),\n",
       " ('displays', 0.9934864044189453),\n",
       " ('analysis', 0.9932577013969421),\n",
       " ('educational', 0.9931148290634155),\n",
       " ('universal', 0.9930117130279541),\n",
       " ('jet', 0.9929860234260559)]"
      ]
     },
     "execution_count": 52,
     "metadata": {},
     "output_type": "execute_result"
    }
   ],
   "source": [
    "model_wiki.most_similar('computer')"
   ]
  },
  {
   "cell_type": "code",
   "execution_count": 56,
   "metadata": {
    "scrolled": false
   },
   "outputs": [
    {
     "data": {
      "text/plain": [
       "[('character', 0.9279099106788635),\n",
       " ('wrote', 0.9036597013473511),\n",
       " ('saying', 0.8904824256896973),\n",
       " ('show', 0.8887151479721069),\n",
       " ('felt', 0.8838680982589722),\n",
       " ('said', 0.8837320804595947),\n",
       " ('film', 0.8765166997909546),\n",
       " ('stated', 0.8733048439025879),\n",
       " ('book', 0.8659184575080872),\n",
       " ('story', 0.865168571472168)]"
      ]
     },
     "execution_count": 56,
     "metadata": {},
     "output_type": "execute_result"
    }
   ],
   "source": [
    "model_wiki.most_similar(positive=['book', 'character'], negative=['adult'])"
   ]
  },
  {
   "cell_type": "markdown",
   "metadata": {},
   "source": [
    "#### t-SNE visualization"
   ]
  },
  {
   "cell_type": "code",
   "execution_count": 54,
   "metadata": {
    "collapsed": true
   },
   "outputs": [],
   "source": [
    "# This assumes words_top_wiki is a list of strings, the top 1000 words\n",
    "words_top_vec_wiki = model_wiki[words_top_wiki]\n",
    "\n",
    "tsne = TSNE(n_components=2, random_state=0)\n",
    "words_top_wiki_tsne = tsne.fit_transform(words_top_vec_wiki)"
   ]
  },
  {
   "cell_type": "code",
   "execution_count": 55,
   "metadata": {},
   "outputs": [
    {
     "data": {
      "text/html": [
       "\n",
       "\n",
       "    <div class=\"bk-root\">\n",
       "        <div class=\"bk-plotdiv\" id=\"a0b2058f-31dd-44d9-a6bc-759d341ae148\"></div>\n",
       "    </div>\n",
       "<script type=\"text/javascript\">\n",
       "  \n",
       "  (function(global) {\n",
       "    function now() {\n",
       "      return new Date();\n",
       "    }\n",
       "  \n",
       "    var force = false;\n",
       "  \n",
       "    if (typeof (window._bokeh_onload_callbacks) === \"undefined\" || force === true) {\n",
       "      window._bokeh_onload_callbacks = [];\n",
       "      window._bokeh_is_loading = undefined;\n",
       "    }\n",
       "  \n",
       "  \n",
       "    \n",
       "    if (typeof (window._bokeh_timeout) === \"undefined\" || force === true) {\n",
       "      window._bokeh_timeout = Date.now() + 0;\n",
       "      window._bokeh_failed_load = false;\n",
       "    }\n",
       "  \n",
       "    var NB_LOAD_WARNING = {'data': {'text/html':\n",
       "       \"<div style='background-color: #fdd'>\\n\"+\n",
       "       \"<p>\\n\"+\n",
       "       \"BokehJS does not appear to have successfully loaded. If loading BokehJS from CDN, this \\n\"+\n",
       "       \"may be due to a slow or bad network connection. Possible fixes:\\n\"+\n",
       "       \"</p>\\n\"+\n",
       "       \"<ul>\\n\"+\n",
       "       \"<li>re-rerun `output_notebook()` to attempt to load from CDN again, or</li>\\n\"+\n",
       "       \"<li>use INLINE resources instead, as so:</li>\\n\"+\n",
       "       \"</ul>\\n\"+\n",
       "       \"<code>\\n\"+\n",
       "       \"from bokeh.resources import INLINE\\n\"+\n",
       "       \"output_notebook(resources=INLINE)\\n\"+\n",
       "       \"</code>\\n\"+\n",
       "       \"</div>\"}};\n",
       "  \n",
       "    function display_loaded() {\n",
       "      if (window.Bokeh !== undefined) {\n",
       "        var el = document.getElementById(\"a0b2058f-31dd-44d9-a6bc-759d341ae148\");\n",
       "        el.textContent = \"BokehJS \" + Bokeh.version + \" successfully loaded.\";\n",
       "      } else if (Date.now() < window._bokeh_timeout) {\n",
       "        setTimeout(display_loaded, 100)\n",
       "      }\n",
       "    }\n",
       "  \n",
       "    function run_callbacks() {\n",
       "      window._bokeh_onload_callbacks.forEach(function(callback) { callback() });\n",
       "      delete window._bokeh_onload_callbacks\n",
       "      console.info(\"Bokeh: all callbacks have finished\");\n",
       "    }\n",
       "  \n",
       "    function load_libs(js_urls, callback) {\n",
       "      window._bokeh_onload_callbacks.push(callback);\n",
       "      if (window._bokeh_is_loading > 0) {\n",
       "        console.log(\"Bokeh: BokehJS is being loaded, scheduling callback at\", now());\n",
       "        return null;\n",
       "      }\n",
       "      if (js_urls == null || js_urls.length === 0) {\n",
       "        run_callbacks();\n",
       "        return null;\n",
       "      }\n",
       "      console.log(\"Bokeh: BokehJS not loaded, scheduling load and callback at\", now());\n",
       "      window._bokeh_is_loading = js_urls.length;\n",
       "      for (var i = 0; i < js_urls.length; i++) {\n",
       "        var url = js_urls[i];\n",
       "        var s = document.createElement('script');\n",
       "        s.src = url;\n",
       "        s.async = false;\n",
       "        s.onreadystatechange = s.onload = function() {\n",
       "          window._bokeh_is_loading--;\n",
       "          if (window._bokeh_is_loading === 0) {\n",
       "            console.log(\"Bokeh: all BokehJS libraries loaded\");\n",
       "            run_callbacks()\n",
       "          }\n",
       "        };\n",
       "        s.onerror = function() {\n",
       "          console.warn(\"failed to load library \" + url);\n",
       "        };\n",
       "        console.log(\"Bokeh: injecting script tag for BokehJS library: \", url);\n",
       "        document.getElementsByTagName(\"head\")[0].appendChild(s);\n",
       "      }\n",
       "    };var element = document.getElementById(\"a0b2058f-31dd-44d9-a6bc-759d341ae148\");\n",
       "    if (element == null) {\n",
       "      console.log(\"Bokeh: ERROR: autoload.js configured with elementid 'a0b2058f-31dd-44d9-a6bc-759d341ae148' but no matching script tag was found. \")\n",
       "      return false;\n",
       "    }\n",
       "  \n",
       "    var js_urls = [];\n",
       "  \n",
       "    var inline_js = [\n",
       "      function(Bokeh) {\n",
       "        (function() {\n",
       "          var fn = function() {\n",
       "            var docs_json = {\"c65440d8-c739-4768-a7eb-3654456675a0\":{\"roots\":{\"references\":[{\"attributes\":{\"plot\":null,\"text\":\"word2vec T-SNE for most common words\"},\"id\":\"5e7f6747-9e18-4e61-8ce9-30eeaeeca1a0\",\"type\":\"Title\"},{\"attributes\":{\"plot\":{\"id\":\"a03c1aec-396e-44ba-84c8-35b0ae7e1cb2\",\"subtype\":\"Figure\",\"type\":\"Plot\"},\"source\":{\"id\":\"f09da83f-f25c-4271-8c60-6d4e2008bced\",\"type\":\"ColumnDataSource\"},\"text\":{\"field\":\"names\"},\"text_align\":\"center\",\"text_color\":{\"value\":\"#555555\"},\"text_font_size\":{\"value\":\"8pt\"},\"x\":{\"field\":\"x1\"},\"y\":{\"field\":\"x2\"},\"y_offset\":{\"value\":6}},\"id\":\"2d673a12-1bbc-40a4-af25-1c0929d88944\",\"type\":\"LabelSet\"},{\"attributes\":{\"callback\":null},\"id\":\"018a4bfa-24a3-481a-8d36-033e1e7fce84\",\"type\":\"DataRange1d\"},{\"attributes\":{\"below\":[{\"id\":\"5d070424-b97d-4a0a-afe1-f4cf999fabf6\",\"type\":\"LinearAxis\"}],\"left\":[{\"id\":\"cb0d3870-b315-4459-91db-eb20a5596db1\",\"type\":\"LinearAxis\"}],\"renderers\":[{\"id\":\"5d070424-b97d-4a0a-afe1-f4cf999fabf6\",\"type\":\"LinearAxis\"},{\"id\":\"696af9f3-1b2e-4ee3-9a04-5008be3270c4\",\"type\":\"Grid\"},{\"id\":\"cb0d3870-b315-4459-91db-eb20a5596db1\",\"type\":\"LinearAxis\"},{\"id\":\"e605a979-f202-4dca-8f95-70210b10ba54\",\"type\":\"Grid\"},{\"id\":\"b977ec74-8409-475a-b6ec-e57e2159a95d\",\"type\":\"GlyphRenderer\"},{\"id\":\"2d673a12-1bbc-40a4-af25-1c0929d88944\",\"type\":\"LabelSet\"}],\"title\":{\"id\":\"5e7f6747-9e18-4e61-8ce9-30eeaeeca1a0\",\"type\":\"Title\"},\"tool_events\":{\"id\":\"f31164f8-38ed-4c87-a6f6-9e7ca388de1a\",\"type\":\"ToolEvents\"},\"toolbar\":{\"id\":\"4858bfba-173e-43d9-865b-e036664eb73f\",\"type\":\"Toolbar\"},\"toolbar_location\":\"above\",\"x_range\":{\"id\":\"018a4bfa-24a3-481a-8d36-033e1e7fce84\",\"type\":\"DataRange1d\"},\"y_range\":{\"id\":\"dfd52fb7-7446-4cbc-8e1c-9843fa961755\",\"type\":\"DataRange1d\"}},\"id\":\"a03c1aec-396e-44ba-84c8-35b0ae7e1cb2\",\"subtype\":\"Figure\",\"type\":\"Plot\"},{\"attributes\":{},\"id\":\"f31164f8-38ed-4c87-a6f6-9e7ca388de1a\",\"type\":\"ToolEvents\"},{\"attributes\":{\"callback\":null,\"column_names\":[\"x1\",\"x2\",\"names\"],\"data\":{\"names\":[\"the\",\"of\",\"and\",\"in\",\"to\",\"a\",\"was\",\"s\",\"on\",\"as\",\"for\",\"that\",\"by\",\"with\",\"is\",\"he\",\"at\",\"his\",\"from\",\"it\",\"were\",\"an\",\"had\",\"which\",\"be\",\"this\",\"not\",\"but\",\"first\",\"are\",\"after\",\"their\",\"one\",\"its\",\"her\",\"also\",\"two\",\"they\",\"have\",\"or\",\"who\",\"new\",\"has\",\"been\",\"she\",\"when\",\"into\",\"time\",\"during\",\"other\",\"all\",\"would\",\"more\",\"i\",\"over\",\"while\",\"game\",\"only\",\"between\",\"later\",\"him\",\"about\",\"out\",\"than\",\"three\",\"th\",\"up\",\"most\",\"there\",\"some\",\"film\",\"such\",\"second\",\"may\",\"before\",\"year\",\"season\",\"years\",\"made\",\"no\",\"where\",\"however\",\"through\",\"song\",\"war\",\"these\",\"series\",\"being\",\"world\",\"team\",\"both\",\"them\",\"album\",\"can\",\"used\",\"against\",\"m\",\"became\",\"well\",\"city\",\"several\",\"number\",\"four\",\"then\",\"many\",\"united\",\"under\",\"south\",\"including\",\"part\",\"known\",\"state\",\"north\",\"music\",\"episode\",\"day\",\"following\",\"states\",\"early\",\"american\",\"until\",\"said\",\"did\",\"began\",\"so\",\"people\",\"work\",\"high\",\"called\",\"like\",\"because\",\"life\",\"could\",\"although\",\"end\",\"t\",\"released\",\"off\",\"around\",\"since\",\"long\",\"show\",\"best\",\"took\",\"along\",\"if\",\"million\",\"september\",\"british\",\"same\",\"due\",\"west\",\"national\",\"back\",\"found\",\"each\",\"home\",\"you\",\"another\",\"october\",\"us\",\"line\",\"any\",\"school\",\"five\",\"use\",\"area\",\"century\",\"will\",\"final\",\"november\",\"what\",\"received\",\"group\",\"km\",\"third\",\"august\",\"government\",\"single\",\"john\",\"band\",\"system\",\"led\",\"east\",\"general\",\"june\",\"league\",\"games\",\"large\",\"six\",\"december\",\"company\",\"main\",\"just\",\"major\",\"set\",\"april\",\"name\",\"march\",\"based\",\"won\",\"much\",\"place\",\"family\",\"air\",\"those\",\"road\",\"july\",\"own\",\"next\",\"according\",\"included\",\"january\",\"history\",\"species\",\"played\",\"st\",\"match\",\"man\",\"within\",\"late\",\"now\",\"last\",\"army\",\"u\",\"king\",\"house\",\"we\",\"york\",\"again\",\"near\",\"down\",\"named\",\"very\",\"video\",\"death\",\"character\",\"days\",\"top\",\"left\",\"make\",\"release\",\"old\",\"few\",\"route\",\"small\",\"de\",\"story\",\"february\",\"black\",\"river\",\"club\",\"division\",\"described\",\"record\",\"times\",\"still\",\"b\",\"d\",\"men\",\"storm\",\"white\",\"wrote\",\"further\",\"even\",\"built\",\"production\",\"ship\",\"battle\",\"england\",\"force\",\"role\",\"public\",\"order\",\"great\",\"service\",\"become\",\"local\",\"among\",\"university\",\"book\",\"player\",\"original\",\"power\",\"having\",\"continued\",\"often\",\"do\",\"take\",\"point\",\"play\",\"though\",\"career\",\"moved\",\"despite\",\"held\",\"tropical\",\"country\",\"party\",\"building\",\"street\",\"considered\",\"water\",\"french\",\"president\",\"way\",\"form\",\"h\",\"fire\",\"half\",\"former\",\"came\",\"re\",\"lead\",\"london\",\"side\",\"without\",\"park\",\"county\",\"period\",\"gave\",\"western\",\"members\",\"island\",\"court\",\"position\",\"c\",\"town\",\"remained\",\"royal\",\"development\",\"lost\",\"similar\",\"church\",\"different\",\"star\",\"tour\",\"track\",\"german\",\"forces\",\"week\",\"version\",\"class\",\"english\",\"how\",\"attack\",\"children\",\"returned\",\"songs\",\"support\",\"went\",\"recorded\",\"women\",\"young\",\"international\",\"given\",\"published\",\"good\",\"written\",\"father\",\"stated\",\"never\",\"n\",\"less\",\"military\",\"center\",\"making\",\"produced\",\"died\",\"areas\",\"ships\",\"little\",\"throughout\",\"using\",\"me\",\"r\",\"per\",\"live\",\"e\",\"law\",\"seven\",\"construction\",\"level\",\"head\",\"include\",\"australian\",\"reported\",\"control\",\"total\",\"title\",\"office\",\"too\",\"taken\",\"design\",\"players\",\"short\",\"highway\",\"love\",\"performance\",\"once\",\"age\",\"points\",\"television\",\"ii\",\"australia\",\"should\",\"upon\",\"instead\",\"result\",\"himself\",\"win\",\"southern\",\"various\",\"previous\",\"special\",\"rock\",\"writing\",\"sea\",\"reached\",\"run\",\"my\",\"son\",\"range\",\"aircraft\",\"ten\",\"right\",\"hurricane\",\"across\",\"style\",\"political\",\"felt\",\"months\",\"sent\",\"ft\",\"low\",\"population\",\"central\",\"full\",\"land\",\"america\",\"william\",\"noted\",\"project\",\"light\",\"award\",\"seen\",\"field\",\"appeared\",\"campaign\",\"football\",\"damage\",\"return\",\"red\",\"followed\",\"northern\",\"others\",\"soon\",\"george\",\"common\",\"developed\",\"served\",\"saw\",\"james\",\"championship\",\"works\",\"started\",\"away\",\"miles\",\"fourth\",\"station\",\"features\",\"front\",\"night\",\"action\",\"characters\",\"mm\",\"success\",\"race\",\"eight\",\"born\",\"caused\",\"formed\",\"act\",\"able\",\"stage\",\"eastern\",\"established\",\"open\",\"japanese\",\"decided\",\"ground\",\"completed\",\"chart\",\"strong\",\"college\",\"least\",\"event\",\"modern\",\"initially\",\"critics\",\"kingdom\",\"david\",\"command\",\"scored\",\"originally\",\"minutes\",\"announced\",\"leading\",\"weeks\",\"popular\",\"thought\",\"almost\",\"post\",\"runs\",\"located\",\"coast\",\"important\",\"created\",\"victory\",\"opening\",\"killed\",\"allowed\",\"together\",\"case\",\"towards\",\"body\",\"go\",\"awards\",\"l\",\"playing\",\"bridge\",\"wife\",\"average\",\"behind\",\"member\",\"navy\",\"close\",\"rather\",\"o\",\"provided\",\"eventually\",\"henry\",\"opened\",\"addition\",\"france\",\"union\",\"records\",\"site\",\"association\",\"saying\",\"free\",\"region\",\"non\",\"particularly\",\"get\",\"scene\",\"possible\",\"present\",\"training\",\"council\",\"magazine\",\"either\",\"test\",\"performed\",\"every\",\"placed\",\"mother\",\"help\",\"working\",\"director\",\"hall\",\"increased\",\"f\",\"hit\",\"fleet\",\"better\",\"see\",\"art\",\"ordered\",\"added\",\"wanted\",\"lower\",\"japan\",\"believed\",\"does\",\"squadron\",\"heavy\",\"feet\",\"european\",\"brought\",\"overall\",\"put\",\"section\",\"replaced\",\"ever\",\"guns\",\"far\",\"official\",\"hours\",\"round\",\"month\",\"business\",\"sold\",\"featured\",\"plan\",\"reviews\",\"appearance\",\"human\",\"involved\",\"generally\",\"cup\",\"robert\",\"interest\",\"recording\",\"largest\",\"sound\",\"europe\",\"nine\",\"relationship\",\"social\",\"mi\",\"media\",\"finished\",\"shot\",\"met\",\"society\",\"highest\",\"germany\",\"designed\",\"research\",\"troops\",\"turned\",\"female\",\"ended\",\"thomas\",\"come\",\"beginning\",\"joined\",\"program\",\"big\",\"limited\",\"cast\",\"plot\",\"education\",\"x\",\"review\",\"mid\",\"thus\",\"don\",\"asked\",\"leader\",\"middle\",\"radio\",\"co\",\"earlier\",\"significant\",\"fact\",\"san\",\"summer\",\"paul\",\"p\",\"successful\",\"hill\",\"personal\",\"study\",\"community\",\"studio\",\"civil\",\"give\",\"michael\",\"events\",\"passed\",\"committee\",\"taking\",\"praised\",\"change\",\"washington\",\"fifth\",\"available\",\"report\",\"shortly\",\"gold\",\"cut\",\"positive\",\"complete\",\"operation\",\"al\",\"car\",\"village\",\"critical\",\"rest\",\"process\",\"cover\",\"worked\",\"mph\",\"effects\",\"move\",\"term\",\"uk\",\"g\",\"example\",\"above\",\"list\",\"going\",\"square\",\"additional\",\"centre\",\"writer\",\"unit\",\"units\",\"minister\",\"person\",\"nd\",\"lines\",\"gun\",\"must\",\"brown\",\"whom\",\"tracks\",\"claimed\",\"entire\",\"police\",\"forced\",\"material\",\"railway\",\"britain\",\"arrived\",\"chief\",\"services\",\"space\",\"remains\",\"grand\",\"start\",\"influence\",\"winds\",\"stars\",\"turn\",\"virginia\",\"museum\",\"estimated\",\"future\",\"blue\",\"stone\",\"india\",\"sometimes\",\"commercial\",\"elements\",\"find\",\"usually\",\"especially\",\"poor\",\"groups\",\"green\",\"industry\",\"charles\",\"earth\",\"idea\",\"smith\",\"hand\",\"films\",\"suggested\",\"food\",\"real\",\"infantry\",\"remaining\",\"speed\",\"goal\",\"parts\",\"peter\",\"islands\",\"bill\",\"signed\",\"movement\",\"lord\",\"outside\",\"voice\",\"district\",\"attempt\",\"lack\",\"brigade\",\"operations\",\"percent\",\"department\",\"election\",\"ball\",\"cost\",\"teams\",\"latter\",\"science\",\"structure\",\"enough\",\"child\",\"becoming\",\"quickly\",\"might\",\"failed\",\"depression\",\"introduced\",\"debut\",\"raised\",\"crew\",\"billboard\",\"smaller\",\"mixed\",\"goals\",\"really\",\"suffered\",\"la\",\"whose\",\"mostly\",\"friends\",\"money\",\"capital\",\"brother\",\"base\",\"captain\",\"battalion\",\"manager\",\"canada\",\"k\",\"valley\",\"health\",\"told\",\"scenes\",\"larger\",\"required\",\"approximately\",\"issued\",\"students\",\"higher\",\"running\",\"issue\",\"copies\",\"background\",\"spanish\",\"god\",\"decision\",\"pop\",\"spent\",\"helped\",\"entered\",\"hot\",\"longer\",\"hour\",\"trade\",\"cross\",\"daughter\",\"board\",\"awarded\",\"appointed\",\"shows\",\"score\",\"moving\",\"bay\",\"lyrics\",\"extended\",\"singles\",\"response\",\"carried\",\"previously\",\"woman\",\"type\",\"got\",\"related\",\"port\",\"associated\",\"commander\",\"leaving\",\"friend\",\"evidence\",\"regiment\",\"nearly\",\"news\",\"musical\",\"lake\",\"agreed\",\"numerous\",\"flight\",\"done\",\"your\",\"loss\",\"finally\",\"writers\",\"theme\",\"itself\",\"california\",\"ran\",\"countries\",\"rd\",\"empire\",\"particular\",\"intended\",\"russian\",\"damaged\",\"richard\",\"issues\",\"broadcast\",\"soldiers\",\"makes\",\"experience\",\"directed\",\"chinese\",\"themselves\",\"today\",\"producer\",\"captured\",\"already\",\"key\",\"supported\",\"subject\",\"initial\",\"market\",\"ranked\",\"living\",\"contract\",\"cause\",\"dark\",\"immediately\",\"prior\",\"our\",\"view\",\"queen\",\"individual\",\"johnson\",\"mary\",\"surface\",\"appears\",\"referred\",\"v\",\"changed\",\"texas\",\"soviet\",\"foreign\",\"corps\",\"staff\",\"notes\",\"episodes\",\"feature\",\"conditions\",\"mass\",\"destroyed\",\"information\",\"houses\",\"course\",\"fans\",\"married\",\"allow\",\"prince\",\"compared\",\"native\",\"changes\",\"proposed\",\"pre\",\"yet\",\"cyclone\",\"past\",\"singer\",\"professional\",\"forward\",\"guitar\",\"novel\",\"inspired\",\"difficult\",\"length\",\"fort\",\"double\",\"w\",\"network\",\"via\",\"governor\",\"performances\",\"pacific\",\"traditional\",\"listed\",\"attempted\",\"want\",\"defense\",\"reception\",\"need\",\"indian\",\"effect\",\"minor\",\"certain\",\"ny\",\"fighting\",\"fell\",\"keep\",\"iii\",\"earned\",\"fantasy\",\"marriage\",\"ability\",\"los\",\"appear\",\"collection\",\"composed\",\"wind\",\"largely\",\"actor\",\"majority\"],\"x1\":{\"__ndarray__\":\"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\",\"dtype\":\"float64\",\"shape\":[1000]},\"x2\":{\"__ndarray__\":\"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\",\"dtype\":\"float64\",\"shape\":[1000]}}},\"id\":\"f09da83f-f25c-4271-8c60-6d4e2008bced\",\"type\":\"ColumnDataSource\"},{\"attributes\":{\"active_drag\":\"auto\",\"active_scroll\":\"auto\",\"active_tap\":\"auto\",\"tools\":[{\"id\":\"d12e0113-2dba-4adf-8008-7f4b4d277106\",\"type\":\"PanTool\"},{\"id\":\"17eb02be-d929-452a-9463-b99f3ce7603a\",\"type\":\"WheelZoomTool\"},{\"id\":\"cc67aa6d-c4a9-4b74-ab4b-82bde0960b94\",\"type\":\"ResetTool\"},{\"id\":\"8b3701ac-ae95-4b94-942c-f4dc9feb4807\",\"type\":\"SaveTool\"}]},\"id\":\"4858bfba-173e-43d9-865b-e036664eb73f\",\"type\":\"Toolbar\"},{\"attributes\":{\"formatter\":{\"id\":\"071c1b8d-090c-4211-849a-264d989aeceb\",\"type\":\"BasicTickFormatter\"},\"plot\":{\"id\":\"a03c1aec-396e-44ba-84c8-35b0ae7e1cb2\",\"subtype\":\"Figure\",\"type\":\"Plot\"},\"ticker\":{\"id\":\"6415a325-5633-4965-8c09-3b3365e95160\",\"type\":\"BasicTicker\"}},\"id\":\"5d070424-b97d-4a0a-afe1-f4cf999fabf6\",\"type\":\"LinearAxis\"},{\"attributes\":{},\"id\":\"6415a325-5633-4965-8c09-3b3365e95160\",\"type\":\"BasicTicker\"},{\"attributes\":{\"data_source\":{\"id\":\"f09da83f-f25c-4271-8c60-6d4e2008bced\",\"type\":\"ColumnDataSource\"},\"glyph\":{\"id\":\"8693fa4c-bbb3-41bd-9691-f3a32fbd3c3c\",\"type\":\"Circle\"},\"hover_glyph\":null,\"muted_glyph\":null,\"nonselection_glyph\":{\"id\":\"0dd49e09-18a1-401e-bcf5-827cce7324cf\",\"type\":\"Circle\"},\"selection_glyph\":null},\"id\":\"b977ec74-8409-475a-b6ec-e57e2159a95d\",\"type\":\"GlyphRenderer\"},{\"attributes\":{\"plot\":{\"id\":\"a03c1aec-396e-44ba-84c8-35b0ae7e1cb2\",\"subtype\":\"Figure\",\"type\":\"Plot\"},\"ticker\":{\"id\":\"6415a325-5633-4965-8c09-3b3365e95160\",\"type\":\"BasicTicker\"}},\"id\":\"696af9f3-1b2e-4ee3-9a04-5008be3270c4\",\"type\":\"Grid\"},{\"attributes\":{\"formatter\":{\"id\":\"97ee73ee-a1e5-439d-8bfe-51c498df7506\",\"type\":\"BasicTickFormatter\"},\"plot\":{\"id\":\"a03c1aec-396e-44ba-84c8-35b0ae7e1cb2\",\"subtype\":\"Figure\",\"type\":\"Plot\"},\"ticker\":{\"id\":\"2cdeacf4-279d-47d0-899e-6b8d3897c50e\",\"type\":\"BasicTicker\"}},\"id\":\"cb0d3870-b315-4459-91db-eb20a5596db1\",\"type\":\"LinearAxis\"},{\"attributes\":{\"callback\":null},\"id\":\"dfd52fb7-7446-4cbc-8e1c-9843fa961755\",\"type\":\"DataRange1d\"},{\"attributes\":{},\"id\":\"2cdeacf4-279d-47d0-899e-6b8d3897c50e\",\"type\":\"BasicTicker\"},{\"attributes\":{\"dimension\":1,\"plot\":{\"id\":\"a03c1aec-396e-44ba-84c8-35b0ae7e1cb2\",\"subtype\":\"Figure\",\"type\":\"Plot\"},\"ticker\":{\"id\":\"2cdeacf4-279d-47d0-899e-6b8d3897c50e\",\"type\":\"BasicTicker\"}},\"id\":\"e605a979-f202-4dca-8f95-70210b10ba54\",\"type\":\"Grid\"},{\"attributes\":{\"fill_alpha\":{\"value\":0.1},\"fill_color\":{\"value\":\"#1f77b4\"},\"line_alpha\":{\"value\":0.1},\"line_color\":{\"value\":\"#1f77b4\"},\"size\":{\"units\":\"screen\",\"value\":8},\"x\":{\"field\":\"x1\"},\"y\":{\"field\":\"x2\"}},\"id\":\"0dd49e09-18a1-401e-bcf5-827cce7324cf\",\"type\":\"Circle\"},{\"attributes\":{\"fill_color\":{\"value\":\"#1f77b4\"},\"line_color\":{\"value\":\"#1f77b4\"},\"size\":{\"units\":\"screen\",\"value\":8},\"x\":{\"field\":\"x1\"},\"y\":{\"field\":\"x2\"}},\"id\":\"8693fa4c-bbb3-41bd-9691-f3a32fbd3c3c\",\"type\":\"Circle\"},{\"attributes\":{\"plot\":{\"id\":\"a03c1aec-396e-44ba-84c8-35b0ae7e1cb2\",\"subtype\":\"Figure\",\"type\":\"Plot\"}},\"id\":\"d12e0113-2dba-4adf-8008-7f4b4d277106\",\"type\":\"PanTool\"},{\"attributes\":{},\"id\":\"071c1b8d-090c-4211-849a-264d989aeceb\",\"type\":\"BasicTickFormatter\"},{\"attributes\":{\"plot\":{\"id\":\"a03c1aec-396e-44ba-84c8-35b0ae7e1cb2\",\"subtype\":\"Figure\",\"type\":\"Plot\"}},\"id\":\"17eb02be-d929-452a-9463-b99f3ce7603a\",\"type\":\"WheelZoomTool\"},{\"attributes\":{\"plot\":{\"id\":\"a03c1aec-396e-44ba-84c8-35b0ae7e1cb2\",\"subtype\":\"Figure\",\"type\":\"Plot\"}},\"id\":\"cc67aa6d-c4a9-4b74-ab4b-82bde0960b94\",\"type\":\"ResetTool\"},{\"attributes\":{\"plot\":{\"id\":\"a03c1aec-396e-44ba-84c8-35b0ae7e1cb2\",\"subtype\":\"Figure\",\"type\":\"Plot\"}},\"id\":\"8b3701ac-ae95-4b94-942c-f4dc9feb4807\",\"type\":\"SaveTool\"},{\"attributes\":{},\"id\":\"97ee73ee-a1e5-439d-8bfe-51c498df7506\",\"type\":\"BasicTickFormatter\"}],\"root_ids\":[\"a03c1aec-396e-44ba-84c8-35b0ae7e1cb2\"]},\"title\":\"Bokeh Application\",\"version\":\"0.12.5\"}};\n",
       "            var render_items = [{\"docid\":\"c65440d8-c739-4768-a7eb-3654456675a0\",\"elementid\":\"a0b2058f-31dd-44d9-a6bc-759d341ae148\",\"modelid\":\"a03c1aec-396e-44ba-84c8-35b0ae7e1cb2\"}];\n",
       "            \n",
       "            Bokeh.embed.embed_items(docs_json, render_items);\n",
       "          };\n",
       "          if (document.readyState != \"loading\") fn();\n",
       "          else document.addEventListener(\"DOMContentLoaded\", fn);\n",
       "        })();\n",
       "      },\n",
       "      function(Bokeh) {\n",
       "      }\n",
       "    ];\n",
       "  \n",
       "    function run_inline_js() {\n",
       "      \n",
       "      if ((window.Bokeh !== undefined) || (force === true)) {\n",
       "        for (var i = 0; i < inline_js.length; i++) {\n",
       "          inline_js[i](window.Bokeh);\n",
       "        }if (force === true) {\n",
       "          display_loaded();\n",
       "        }} else if (Date.now() < window._bokeh_timeout) {\n",
       "        setTimeout(run_inline_js, 100);\n",
       "      } else if (!window._bokeh_failed_load) {\n",
       "        console.log(\"Bokeh: BokehJS failed to load within specified timeout.\");\n",
       "        window._bokeh_failed_load = true;\n",
       "      } else if (force !== true) {\n",
       "        var cell = $(document.getElementById(\"a0b2058f-31dd-44d9-a6bc-759d341ae148\")).parents('.cell').data().cell;\n",
       "        cell.output_area.append_execute_result(NB_LOAD_WARNING)\n",
       "      }\n",
       "  \n",
       "    }\n",
       "  \n",
       "    if (window._bokeh_is_loading === 0) {\n",
       "      console.log(\"Bokeh: BokehJS loaded, going straight to plotting\");\n",
       "      run_inline_js();\n",
       "    } else {\n",
       "      load_libs(js_urls, function() {\n",
       "        console.log(\"Bokeh: BokehJS plotting callback run at\", now());\n",
       "        run_inline_js();\n",
       "      });\n",
       "    }\n",
       "  }(this));\n",
       "</script>"
      ]
     },
     "metadata": {},
     "output_type": "display_data"
    }
   ],
   "source": [
    "p = figure(tools=\"pan,wheel_zoom,reset,save\",\n",
    "           toolbar_location=\"above\",\n",
    "           title=\"word2vec T-SNE for most common words\")\n",
    "\n",
    "source = ColumnDataSource(data=dict(x1=words_top_wiki_tsne[:,0],\n",
    "                                    x2=words_top_wiki_tsne[:,1],\n",
    "                                    names=words_top_wiki))\n",
    "\n",
    "p.scatter(x=\"x1\", y=\"x2\", size=8, source=source)\n",
    "\n",
    "labels = LabelSet(x=\"x1\", y=\"x2\", text=\"names\", y_offset=6,\n",
    "                  text_font_size=\"8pt\", text_color=\"#555555\",\n",
    "                  source=source, text_align='center')\n",
    "p.add_layout(labels)\n",
    "\n",
    "show(p)"
   ]
  },
  {
   "cell_type": "code",
   "execution_count": null,
   "metadata": {
    "collapsed": true
   },
   "outputs": [],
   "source": []
  }
 ],
 "metadata": {
  "anaconda-cloud": {},
  "kernelspec": {
   "display_name": "Python 3",
   "language": "python",
   "name": "python3"
  },
  "language_info": {
   "codemirror_mode": {
    "name": "ipython",
    "version": 3
   },
   "file_extension": ".py",
   "mimetype": "text/x-python",
   "name": "python",
   "nbconvert_exporter": "python",
   "pygments_lexer": "ipython3",
   "version": "3.6.1"
  }
 },
 "nbformat": 4,
 "nbformat_minor": 1
}
